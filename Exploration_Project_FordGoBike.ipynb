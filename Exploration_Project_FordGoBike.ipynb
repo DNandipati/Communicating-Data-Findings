{
 "cells": [
  {
   "cell_type": "markdown",
   "metadata": {},
   "source": [
    "# Exploring San Francisco Bike Rental Dataset\n",
    "## by Deepak Nandipati\n",
    "\n",
    "## Preliminary Wrangling\n",
    "\n",
    "> This dataset is of 2017 San Fransico and Bay area FordGoBike rentals. It consists of over 500,000 data points with variables such as the latitude, longitudes of data, timings of rentals, customers gender and user type. In my analysis, I would like to determine which group of riders are likely to have the longest rental duration and to also find out the timeperiod in which these riders are most active."
   ]
  },
  {
   "cell_type": "code",
   "execution_count": 1,
   "metadata": {},
   "outputs": [],
   "source": [
    "# import all packages and set plots to be embedded inline\n",
    "import numpy as np\n",
    "import pandas as pd\n",
    "import matplotlib.pyplot as plt\n",
    "import seaborn as sns\n",
    "\n",
    "%matplotlib inline"
   ]
  },
  {
   "cell_type": "markdown",
   "metadata": {},
   "source": [
    "### Importing Dataset"
   ]
  },
  {
   "cell_type": "code",
   "execution_count": 2,
   "metadata": {},
   "outputs": [],
   "source": [
    "df = pd.read_csv(\"2017-fordgobike-tripdata.csv\") #importing data set"
   ]
  },
  {
   "cell_type": "markdown",
   "metadata": {},
   "source": [
    "<br>"
   ]
  },
  {
   "cell_type": "markdown",
   "metadata": {},
   "source": [
    "### Assess the Data"
   ]
  },
  {
   "cell_type": "code",
   "execution_count": 4,
   "metadata": {},
   "outputs": [
    {
     "name": "stdout",
     "output_type": "stream",
     "text": [
      "(519700, 15)\n",
      "<class 'pandas.core.frame.DataFrame'>\n",
      "RangeIndex: 519700 entries, 0 to 519699\n",
      "Data columns (total 15 columns):\n",
      "duration_sec               519700 non-null int64\n",
      "start_time                 519700 non-null object\n",
      "end_time                   519700 non-null object\n",
      "start_station_id           519700 non-null int64\n",
      "start_station_name         519700 non-null object\n",
      "start_station_latitude     519700 non-null float64\n",
      "start_station_longitude    519700 non-null float64\n",
      "end_station_id             519700 non-null int64\n",
      "end_station_name           519700 non-null object\n",
      "end_station_latitude       519700 non-null float64\n",
      "end_station_longitude      519700 non-null float64\n",
      "bike_id                    519700 non-null int64\n",
      "user_type                  519700 non-null object\n",
      "member_birth_year          453159 non-null float64\n",
      "member_gender              453238 non-null object\n",
      "dtypes: float64(5), int64(4), object(6)\n",
      "memory usage: 59.5+ MB\n"
     ]
    }
   ],
   "source": [
    "print(df.shape), \n",
    "df.info(); #assess the data"
   ]
  },
  {
   "cell_type": "code",
   "execution_count": 5,
   "metadata": {
    "scrolled": false
   },
   "outputs": [
    {
     "data": {
      "text/html": [
       "<div>\n",
       "<style scoped>\n",
       "    .dataframe tbody tr th:only-of-type {\n",
       "        vertical-align: middle;\n",
       "    }\n",
       "\n",
       "    .dataframe tbody tr th {\n",
       "        vertical-align: top;\n",
       "    }\n",
       "\n",
       "    .dataframe thead th {\n",
       "        text-align: right;\n",
       "    }\n",
       "</style>\n",
       "<table border=\"1\" class=\"dataframe\">\n",
       "  <thead>\n",
       "    <tr style=\"text-align: right;\">\n",
       "      <th></th>\n",
       "      <th>duration_sec</th>\n",
       "      <th>start_time</th>\n",
       "      <th>end_time</th>\n",
       "      <th>start_station_id</th>\n",
       "      <th>start_station_name</th>\n",
       "      <th>start_station_latitude</th>\n",
       "      <th>start_station_longitude</th>\n",
       "      <th>end_station_id</th>\n",
       "      <th>end_station_name</th>\n",
       "      <th>end_station_latitude</th>\n",
       "      <th>end_station_longitude</th>\n",
       "      <th>bike_id</th>\n",
       "      <th>user_type</th>\n",
       "      <th>member_birth_year</th>\n",
       "      <th>member_gender</th>\n",
       "    </tr>\n",
       "  </thead>\n",
       "  <tbody>\n",
       "    <tr>\n",
       "      <th>0</th>\n",
       "      <td>80110</td>\n",
       "      <td>2017-12-31 16:57:39.6540</td>\n",
       "      <td>2018-01-01 15:12:50.2450</td>\n",
       "      <td>74</td>\n",
       "      <td>Laguna St at Hayes St</td>\n",
       "      <td>37.776435</td>\n",
       "      <td>-122.426244</td>\n",
       "      <td>43</td>\n",
       "      <td>San Francisco Public Library (Grove St at Hyde...</td>\n",
       "      <td>37.778768</td>\n",
       "      <td>-122.415929</td>\n",
       "      <td>96</td>\n",
       "      <td>Customer</td>\n",
       "      <td>1987.0</td>\n",
       "      <td>Male</td>\n",
       "    </tr>\n",
       "    <tr>\n",
       "      <th>1</th>\n",
       "      <td>78800</td>\n",
       "      <td>2017-12-31 15:56:34.8420</td>\n",
       "      <td>2018-01-01 13:49:55.6170</td>\n",
       "      <td>284</td>\n",
       "      <td>Yerba Buena Center for the Arts (Howard St at ...</td>\n",
       "      <td>37.784872</td>\n",
       "      <td>-122.400876</td>\n",
       "      <td>96</td>\n",
       "      <td>Dolores St at 15th St</td>\n",
       "      <td>37.766210</td>\n",
       "      <td>-122.426614</td>\n",
       "      <td>88</td>\n",
       "      <td>Customer</td>\n",
       "      <td>1965.0</td>\n",
       "      <td>Female</td>\n",
       "    </tr>\n",
       "    <tr>\n",
       "      <th>2</th>\n",
       "      <td>45768</td>\n",
       "      <td>2017-12-31 22:45:48.4110</td>\n",
       "      <td>2018-01-01 11:28:36.8830</td>\n",
       "      <td>245</td>\n",
       "      <td>Downtown Berkeley BART</td>\n",
       "      <td>37.870348</td>\n",
       "      <td>-122.267764</td>\n",
       "      <td>245</td>\n",
       "      <td>Downtown Berkeley BART</td>\n",
       "      <td>37.870348</td>\n",
       "      <td>-122.267764</td>\n",
       "      <td>1094</td>\n",
       "      <td>Customer</td>\n",
       "      <td>NaN</td>\n",
       "      <td>NaN</td>\n",
       "    </tr>\n",
       "    <tr>\n",
       "      <th>3</th>\n",
       "      <td>62172</td>\n",
       "      <td>2017-12-31 17:31:10.6360</td>\n",
       "      <td>2018-01-01 10:47:23.5310</td>\n",
       "      <td>60</td>\n",
       "      <td>8th St at Ringold St</td>\n",
       "      <td>37.774520</td>\n",
       "      <td>-122.409449</td>\n",
       "      <td>5</td>\n",
       "      <td>Powell St BART Station (Market St at 5th St)</td>\n",
       "      <td>37.783899</td>\n",
       "      <td>-122.408445</td>\n",
       "      <td>2831</td>\n",
       "      <td>Customer</td>\n",
       "      <td>NaN</td>\n",
       "      <td>NaN</td>\n",
       "    </tr>\n",
       "    <tr>\n",
       "      <th>4</th>\n",
       "      <td>43603</td>\n",
       "      <td>2017-12-31 14:23:14.0010</td>\n",
       "      <td>2018-01-01 02:29:57.5710</td>\n",
       "      <td>239</td>\n",
       "      <td>Bancroft Way at Telegraph Ave</td>\n",
       "      <td>37.868813</td>\n",
       "      <td>-122.258764</td>\n",
       "      <td>247</td>\n",
       "      <td>Fulton St at Bancroft Way</td>\n",
       "      <td>37.867789</td>\n",
       "      <td>-122.265896</td>\n",
       "      <td>3167</td>\n",
       "      <td>Subscriber</td>\n",
       "      <td>1997.0</td>\n",
       "      <td>Female</td>\n",
       "    </tr>\n",
       "    <tr>\n",
       "      <th>5</th>\n",
       "      <td>9226</td>\n",
       "      <td>2017-12-31 22:51:00.9180</td>\n",
       "      <td>2018-01-01 01:24:47.1660</td>\n",
       "      <td>30</td>\n",
       "      <td>San Francisco Caltrain (Townsend St at 4th St)</td>\n",
       "      <td>37.776598</td>\n",
       "      <td>-122.395282</td>\n",
       "      <td>30</td>\n",
       "      <td>San Francisco Caltrain (Townsend St at 4th St)</td>\n",
       "      <td>37.776598</td>\n",
       "      <td>-122.395282</td>\n",
       "      <td>1487</td>\n",
       "      <td>Customer</td>\n",
       "      <td>NaN</td>\n",
       "      <td>NaN</td>\n",
       "    </tr>\n",
       "    <tr>\n",
       "      <th>6</th>\n",
       "      <td>4507</td>\n",
       "      <td>2017-12-31 23:49:28.4220</td>\n",
       "      <td>2018-01-01 01:04:35.6190</td>\n",
       "      <td>259</td>\n",
       "      <td>Addison St at Fourth St</td>\n",
       "      <td>37.866249</td>\n",
       "      <td>-122.299371</td>\n",
       "      <td>259</td>\n",
       "      <td>Addison St at Fourth St</td>\n",
       "      <td>37.866249</td>\n",
       "      <td>-122.299371</td>\n",
       "      <td>3539</td>\n",
       "      <td>Customer</td>\n",
       "      <td>1991.0</td>\n",
       "      <td>Female</td>\n",
       "    </tr>\n",
       "    <tr>\n",
       "      <th>7</th>\n",
       "      <td>4334</td>\n",
       "      <td>2017-12-31 23:46:37.1960</td>\n",
       "      <td>2018-01-01 00:58:51.2110</td>\n",
       "      <td>284</td>\n",
       "      <td>Yerba Buena Center for the Arts (Howard St at ...</td>\n",
       "      <td>37.784872</td>\n",
       "      <td>-122.400876</td>\n",
       "      <td>284</td>\n",
       "      <td>Yerba Buena Center for the Arts (Howard St at ...</td>\n",
       "      <td>37.784872</td>\n",
       "      <td>-122.400876</td>\n",
       "      <td>1503</td>\n",
       "      <td>Customer</td>\n",
       "      <td>NaN</td>\n",
       "      <td>NaN</td>\n",
       "    </tr>\n",
       "    <tr>\n",
       "      <th>8</th>\n",
       "      <td>4150</td>\n",
       "      <td>2017-12-31 23:37:07.5480</td>\n",
       "      <td>2018-01-01 00:46:18.3080</td>\n",
       "      <td>20</td>\n",
       "      <td>Mechanics Monument Plaza (Market St at Bush St)</td>\n",
       "      <td>37.791300</td>\n",
       "      <td>-122.399051</td>\n",
       "      <td>20</td>\n",
       "      <td>Mechanics Monument Plaza (Market St at Bush St)</td>\n",
       "      <td>37.791300</td>\n",
       "      <td>-122.399051</td>\n",
       "      <td>3125</td>\n",
       "      <td>Customer</td>\n",
       "      <td>NaN</td>\n",
       "      <td>NaN</td>\n",
       "    </tr>\n",
       "    <tr>\n",
       "      <th>9</th>\n",
       "      <td>4238</td>\n",
       "      <td>2017-12-31 23:35:38.1450</td>\n",
       "      <td>2018-01-01 00:46:17.0530</td>\n",
       "      <td>20</td>\n",
       "      <td>Mechanics Monument Plaza (Market St at Bush St)</td>\n",
       "      <td>37.791300</td>\n",
       "      <td>-122.399051</td>\n",
       "      <td>20</td>\n",
       "      <td>Mechanics Monument Plaza (Market St at Bush St)</td>\n",
       "      <td>37.791300</td>\n",
       "      <td>-122.399051</td>\n",
       "      <td>2543</td>\n",
       "      <td>Customer</td>\n",
       "      <td>NaN</td>\n",
       "      <td>NaN</td>\n",
       "    </tr>\n",
       "    <tr>\n",
       "      <th>10</th>\n",
       "      <td>3292</td>\n",
       "      <td>2017-12-31 23:46:32.4030</td>\n",
       "      <td>2018-01-01 00:41:24.6050</td>\n",
       "      <td>284</td>\n",
       "      <td>Yerba Buena Center for the Arts (Howard St at ...</td>\n",
       "      <td>37.784872</td>\n",
       "      <td>-122.400876</td>\n",
       "      <td>22</td>\n",
       "      <td>Howard St at Beale St</td>\n",
       "      <td>37.789756</td>\n",
       "      <td>-122.394643</td>\n",
       "      <td>3058</td>\n",
       "      <td>Customer</td>\n",
       "      <td>NaN</td>\n",
       "      <td>NaN</td>\n",
       "    </tr>\n",
       "    <tr>\n",
       "      <th>11</th>\n",
       "      <td>3177</td>\n",
       "      <td>2017-12-31 23:48:11.7570</td>\n",
       "      <td>2018-01-01 00:41:09.5810</td>\n",
       "      <td>284</td>\n",
       "      <td>Yerba Buena Center for the Arts (Howard St at ...</td>\n",
       "      <td>37.784872</td>\n",
       "      <td>-122.400876</td>\n",
       "      <td>22</td>\n",
       "      <td>Howard St at Beale St</td>\n",
       "      <td>37.789756</td>\n",
       "      <td>-122.394643</td>\n",
       "      <td>3197</td>\n",
       "      <td>Customer</td>\n",
       "      <td>NaN</td>\n",
       "      <td>NaN</td>\n",
       "    </tr>\n",
       "    <tr>\n",
       "      <th>12</th>\n",
       "      <td>2183</td>\n",
       "      <td>2017-12-31 23:52:55.5810</td>\n",
       "      <td>2018-01-01 00:29:18.7430</td>\n",
       "      <td>67</td>\n",
       "      <td>San Francisco Caltrain Station 2  (Townsend St...</td>\n",
       "      <td>37.776639</td>\n",
       "      <td>-122.395526</td>\n",
       "      <td>24</td>\n",
       "      <td>Spear St at Folsom St</td>\n",
       "      <td>37.789677</td>\n",
       "      <td>-122.390428</td>\n",
       "      <td>2311</td>\n",
       "      <td>Subscriber</td>\n",
       "      <td>1990.0</td>\n",
       "      <td>Male</td>\n",
       "    </tr>\n",
       "    <tr>\n",
       "      <th>13</th>\n",
       "      <td>2170</td>\n",
       "      <td>2017-12-31 23:52:55.9370</td>\n",
       "      <td>2018-01-01 00:29:06.9240</td>\n",
       "      <td>67</td>\n",
       "      <td>San Francisco Caltrain Station 2  (Townsend St...</td>\n",
       "      <td>37.776639</td>\n",
       "      <td>-122.395526</td>\n",
       "      <td>24</td>\n",
       "      <td>Spear St at Folsom St</td>\n",
       "      <td>37.789677</td>\n",
       "      <td>-122.390428</td>\n",
       "      <td>3717</td>\n",
       "      <td>Subscriber</td>\n",
       "      <td>1990.0</td>\n",
       "      <td>Male</td>\n",
       "    </tr>\n",
       "    <tr>\n",
       "      <th>14</th>\n",
       "      <td>2697</td>\n",
       "      <td>2017-12-31 23:35:23.2220</td>\n",
       "      <td>2018-01-01 00:20:20.8130</td>\n",
       "      <td>66</td>\n",
       "      <td>3rd St at Townsend St</td>\n",
       "      <td>37.778742</td>\n",
       "      <td>-122.392741</td>\n",
       "      <td>23</td>\n",
       "      <td>The Embarcadero at Steuart St</td>\n",
       "      <td>37.791464</td>\n",
       "      <td>-122.391034</td>\n",
       "      <td>3452</td>\n",
       "      <td>Customer</td>\n",
       "      <td>NaN</td>\n",
       "      <td>NaN</td>\n",
       "    </tr>\n",
       "    <tr>\n",
       "      <th>15</th>\n",
       "      <td>1544</td>\n",
       "      <td>2017-12-31 23:53:38.9430</td>\n",
       "      <td>2018-01-01 00:19:23.0470</td>\n",
       "      <td>14</td>\n",
       "      <td>Clay St at Battery St</td>\n",
       "      <td>37.795001</td>\n",
       "      <td>-122.399970</td>\n",
       "      <td>27</td>\n",
       "      <td>Beale St at Harrison St</td>\n",
       "      <td>37.788059</td>\n",
       "      <td>-122.391865</td>\n",
       "      <td>558</td>\n",
       "      <td>Subscriber</td>\n",
       "      <td>1980.0</td>\n",
       "      <td>Female</td>\n",
       "    </tr>\n",
       "    <tr>\n",
       "      <th>16</th>\n",
       "      <td>1474</td>\n",
       "      <td>2017-12-31 23:54:40.1460</td>\n",
       "      <td>2018-01-01 00:19:14.3510</td>\n",
       "      <td>14</td>\n",
       "      <td>Clay St at Battery St</td>\n",
       "      <td>37.795001</td>\n",
       "      <td>-122.399970</td>\n",
       "      <td>27</td>\n",
       "      <td>Beale St at Harrison St</td>\n",
       "      <td>37.788059</td>\n",
       "      <td>-122.391865</td>\n",
       "      <td>3646</td>\n",
       "      <td>Subscriber</td>\n",
       "      <td>1979.0</td>\n",
       "      <td>Male</td>\n",
       "    </tr>\n",
       "    <tr>\n",
       "      <th>17</th>\n",
       "      <td>1397</td>\n",
       "      <td>2017-12-31 23:55:09.6860</td>\n",
       "      <td>2018-01-01 00:18:26.7210</td>\n",
       "      <td>78</td>\n",
       "      <td>Folsom St at 9th St</td>\n",
       "      <td>37.773717</td>\n",
       "      <td>-122.411647</td>\n",
       "      <td>15</td>\n",
       "      <td>San Francisco Ferry Building (Harry Bridges Pl...</td>\n",
       "      <td>37.795392</td>\n",
       "      <td>-122.394203</td>\n",
       "      <td>1667</td>\n",
       "      <td>Customer</td>\n",
       "      <td>NaN</td>\n",
       "      <td>NaN</td>\n",
       "    </tr>\n",
       "    <tr>\n",
       "      <th>18</th>\n",
       "      <td>1532</td>\n",
       "      <td>2017-12-31 23:52:49.4970</td>\n",
       "      <td>2018-01-01 00:18:21.9530</td>\n",
       "      <td>78</td>\n",
       "      <td>Folsom St at 9th St</td>\n",
       "      <td>37.773717</td>\n",
       "      <td>-122.411647</td>\n",
       "      <td>15</td>\n",
       "      <td>San Francisco Ferry Building (Harry Bridges Pl...</td>\n",
       "      <td>37.795392</td>\n",
       "      <td>-122.394203</td>\n",
       "      <td>3114</td>\n",
       "      <td>Subscriber</td>\n",
       "      <td>1988.0</td>\n",
       "      <td>Other</td>\n",
       "    </tr>\n",
       "    <tr>\n",
       "      <th>19</th>\n",
       "      <td>1216</td>\n",
       "      <td>2017-12-31 23:46:33.9930</td>\n",
       "      <td>2018-01-01 00:06:50.0580</td>\n",
       "      <td>4</td>\n",
       "      <td>Cyril Magnin St at Ellis St</td>\n",
       "      <td>37.785881</td>\n",
       "      <td>-122.408915</td>\n",
       "      <td>123</td>\n",
       "      <td>Folsom St at 19th St</td>\n",
       "      <td>37.760594</td>\n",
       "      <td>-122.414817</td>\n",
       "      <td>1473</td>\n",
       "      <td>Subscriber</td>\n",
       "      <td>1971.0</td>\n",
       "      <td>Male</td>\n",
       "    </tr>\n",
       "  </tbody>\n",
       "</table>\n",
       "</div>"
      ],
      "text/plain": [
       "    duration_sec                start_time                  end_time  \\\n",
       "0          80110  2017-12-31 16:57:39.6540  2018-01-01 15:12:50.2450   \n",
       "1          78800  2017-12-31 15:56:34.8420  2018-01-01 13:49:55.6170   \n",
       "2          45768  2017-12-31 22:45:48.4110  2018-01-01 11:28:36.8830   \n",
       "3          62172  2017-12-31 17:31:10.6360  2018-01-01 10:47:23.5310   \n",
       "4          43603  2017-12-31 14:23:14.0010  2018-01-01 02:29:57.5710   \n",
       "5           9226  2017-12-31 22:51:00.9180  2018-01-01 01:24:47.1660   \n",
       "6           4507  2017-12-31 23:49:28.4220  2018-01-01 01:04:35.6190   \n",
       "7           4334  2017-12-31 23:46:37.1960  2018-01-01 00:58:51.2110   \n",
       "8           4150  2017-12-31 23:37:07.5480  2018-01-01 00:46:18.3080   \n",
       "9           4238  2017-12-31 23:35:38.1450  2018-01-01 00:46:17.0530   \n",
       "10          3292  2017-12-31 23:46:32.4030  2018-01-01 00:41:24.6050   \n",
       "11          3177  2017-12-31 23:48:11.7570  2018-01-01 00:41:09.5810   \n",
       "12          2183  2017-12-31 23:52:55.5810  2018-01-01 00:29:18.7430   \n",
       "13          2170  2017-12-31 23:52:55.9370  2018-01-01 00:29:06.9240   \n",
       "14          2697  2017-12-31 23:35:23.2220  2018-01-01 00:20:20.8130   \n",
       "15          1544  2017-12-31 23:53:38.9430  2018-01-01 00:19:23.0470   \n",
       "16          1474  2017-12-31 23:54:40.1460  2018-01-01 00:19:14.3510   \n",
       "17          1397  2017-12-31 23:55:09.6860  2018-01-01 00:18:26.7210   \n",
       "18          1532  2017-12-31 23:52:49.4970  2018-01-01 00:18:21.9530   \n",
       "19          1216  2017-12-31 23:46:33.9930  2018-01-01 00:06:50.0580   \n",
       "\n",
       "    start_station_id                                 start_station_name  \\\n",
       "0                 74                              Laguna St at Hayes St   \n",
       "1                284  Yerba Buena Center for the Arts (Howard St at ...   \n",
       "2                245                             Downtown Berkeley BART   \n",
       "3                 60                               8th St at Ringold St   \n",
       "4                239                      Bancroft Way at Telegraph Ave   \n",
       "5                 30     San Francisco Caltrain (Townsend St at 4th St)   \n",
       "6                259                            Addison St at Fourth St   \n",
       "7                284  Yerba Buena Center for the Arts (Howard St at ...   \n",
       "8                 20    Mechanics Monument Plaza (Market St at Bush St)   \n",
       "9                 20    Mechanics Monument Plaza (Market St at Bush St)   \n",
       "10               284  Yerba Buena Center for the Arts (Howard St at ...   \n",
       "11               284  Yerba Buena Center for the Arts (Howard St at ...   \n",
       "12                67  San Francisco Caltrain Station 2  (Townsend St...   \n",
       "13                67  San Francisco Caltrain Station 2  (Townsend St...   \n",
       "14                66                              3rd St at Townsend St   \n",
       "15                14                              Clay St at Battery St   \n",
       "16                14                              Clay St at Battery St   \n",
       "17                78                                Folsom St at 9th St   \n",
       "18                78                                Folsom St at 9th St   \n",
       "19                 4                        Cyril Magnin St at Ellis St   \n",
       "\n",
       "    start_station_latitude  start_station_longitude  end_station_id  \\\n",
       "0                37.776435              -122.426244              43   \n",
       "1                37.784872              -122.400876              96   \n",
       "2                37.870348              -122.267764             245   \n",
       "3                37.774520              -122.409449               5   \n",
       "4                37.868813              -122.258764             247   \n",
       "5                37.776598              -122.395282              30   \n",
       "6                37.866249              -122.299371             259   \n",
       "7                37.784872              -122.400876             284   \n",
       "8                37.791300              -122.399051              20   \n",
       "9                37.791300              -122.399051              20   \n",
       "10               37.784872              -122.400876              22   \n",
       "11               37.784872              -122.400876              22   \n",
       "12               37.776639              -122.395526              24   \n",
       "13               37.776639              -122.395526              24   \n",
       "14               37.778742              -122.392741              23   \n",
       "15               37.795001              -122.399970              27   \n",
       "16               37.795001              -122.399970              27   \n",
       "17               37.773717              -122.411647              15   \n",
       "18               37.773717              -122.411647              15   \n",
       "19               37.785881              -122.408915             123   \n",
       "\n",
       "                                     end_station_name  end_station_latitude  \\\n",
       "0   San Francisco Public Library (Grove St at Hyde...             37.778768   \n",
       "1                               Dolores St at 15th St             37.766210   \n",
       "2                              Downtown Berkeley BART             37.870348   \n",
       "3        Powell St BART Station (Market St at 5th St)             37.783899   \n",
       "4                           Fulton St at Bancroft Way             37.867789   \n",
       "5      San Francisco Caltrain (Townsend St at 4th St)             37.776598   \n",
       "6                             Addison St at Fourth St             37.866249   \n",
       "7   Yerba Buena Center for the Arts (Howard St at ...             37.784872   \n",
       "8     Mechanics Monument Plaza (Market St at Bush St)             37.791300   \n",
       "9     Mechanics Monument Plaza (Market St at Bush St)             37.791300   \n",
       "10                              Howard St at Beale St             37.789756   \n",
       "11                              Howard St at Beale St             37.789756   \n",
       "12                              Spear St at Folsom St             37.789677   \n",
       "13                              Spear St at Folsom St             37.789677   \n",
       "14                      The Embarcadero at Steuart St             37.791464   \n",
       "15                            Beale St at Harrison St             37.788059   \n",
       "16                            Beale St at Harrison St             37.788059   \n",
       "17  San Francisco Ferry Building (Harry Bridges Pl...             37.795392   \n",
       "18  San Francisco Ferry Building (Harry Bridges Pl...             37.795392   \n",
       "19                               Folsom St at 19th St             37.760594   \n",
       "\n",
       "    end_station_longitude  bike_id   user_type  member_birth_year  \\\n",
       "0             -122.415929       96    Customer             1987.0   \n",
       "1             -122.426614       88    Customer             1965.0   \n",
       "2             -122.267764     1094    Customer                NaN   \n",
       "3             -122.408445     2831    Customer                NaN   \n",
       "4             -122.265896     3167  Subscriber             1997.0   \n",
       "5             -122.395282     1487    Customer                NaN   \n",
       "6             -122.299371     3539    Customer             1991.0   \n",
       "7             -122.400876     1503    Customer                NaN   \n",
       "8             -122.399051     3125    Customer                NaN   \n",
       "9             -122.399051     2543    Customer                NaN   \n",
       "10            -122.394643     3058    Customer                NaN   \n",
       "11            -122.394643     3197    Customer                NaN   \n",
       "12            -122.390428     2311  Subscriber             1990.0   \n",
       "13            -122.390428     3717  Subscriber             1990.0   \n",
       "14            -122.391034     3452    Customer                NaN   \n",
       "15            -122.391865      558  Subscriber             1980.0   \n",
       "16            -122.391865     3646  Subscriber             1979.0   \n",
       "17            -122.394203     1667    Customer                NaN   \n",
       "18            -122.394203     3114  Subscriber             1988.0   \n",
       "19            -122.414817     1473  Subscriber             1971.0   \n",
       "\n",
       "   member_gender  \n",
       "0           Male  \n",
       "1         Female  \n",
       "2            NaN  \n",
       "3            NaN  \n",
       "4         Female  \n",
       "5            NaN  \n",
       "6         Female  \n",
       "7            NaN  \n",
       "8            NaN  \n",
       "9            NaN  \n",
       "10           NaN  \n",
       "11           NaN  \n",
       "12          Male  \n",
       "13          Male  \n",
       "14           NaN  \n",
       "15        Female  \n",
       "16          Male  \n",
       "17           NaN  \n",
       "18         Other  \n",
       "19          Male  "
      ]
     },
     "execution_count": 5,
     "metadata": {},
     "output_type": "execute_result"
    }
   ],
   "source": [
    "df.head(20)"
   ]
  },
  {
   "cell_type": "code",
   "execution_count": 6,
   "metadata": {},
   "outputs": [
    {
     "data": {
      "text/html": [
       "<div>\n",
       "<style scoped>\n",
       "    .dataframe tbody tr th:only-of-type {\n",
       "        vertical-align: middle;\n",
       "    }\n",
       "\n",
       "    .dataframe tbody tr th {\n",
       "        vertical-align: top;\n",
       "    }\n",
       "\n",
       "    .dataframe thead th {\n",
       "        text-align: right;\n",
       "    }\n",
       "</style>\n",
       "<table border=\"1\" class=\"dataframe\">\n",
       "  <thead>\n",
       "    <tr style=\"text-align: right;\">\n",
       "      <th></th>\n",
       "      <th>duration_sec</th>\n",
       "      <th>start_station_id</th>\n",
       "      <th>start_station_latitude</th>\n",
       "      <th>start_station_longitude</th>\n",
       "      <th>end_station_id</th>\n",
       "      <th>end_station_latitude</th>\n",
       "      <th>end_station_longitude</th>\n",
       "      <th>bike_id</th>\n",
       "      <th>member_birth_year</th>\n",
       "    </tr>\n",
       "  </thead>\n",
       "  <tbody>\n",
       "    <tr>\n",
       "      <th>count</th>\n",
       "      <td>519700.000000</td>\n",
       "      <td>519700.000000</td>\n",
       "      <td>519700.000000</td>\n",
       "      <td>519700.000000</td>\n",
       "      <td>519700.000000</td>\n",
       "      <td>519700.000000</td>\n",
       "      <td>519700.000000</td>\n",
       "      <td>519700.000000</td>\n",
       "      <td>453159.000000</td>\n",
       "    </tr>\n",
       "    <tr>\n",
       "      <th>mean</th>\n",
       "      <td>1099.009521</td>\n",
       "      <td>95.034245</td>\n",
       "      <td>37.771653</td>\n",
       "      <td>-122.363927</td>\n",
       "      <td>92.184041</td>\n",
       "      <td>37.771844</td>\n",
       "      <td>-122.363236</td>\n",
       "      <td>1672.533079</td>\n",
       "      <td>1980.404787</td>\n",
       "    </tr>\n",
       "    <tr>\n",
       "      <th>std</th>\n",
       "      <td>3444.146451</td>\n",
       "      <td>86.083078</td>\n",
       "      <td>0.086305</td>\n",
       "      <td>0.105573</td>\n",
       "      <td>84.969491</td>\n",
       "      <td>0.086224</td>\n",
       "      <td>0.105122</td>\n",
       "      <td>971.356959</td>\n",
       "      <td>10.513488</td>\n",
       "    </tr>\n",
       "    <tr>\n",
       "      <th>min</th>\n",
       "      <td>61.000000</td>\n",
       "      <td>3.000000</td>\n",
       "      <td>37.317298</td>\n",
       "      <td>-122.444293</td>\n",
       "      <td>3.000000</td>\n",
       "      <td>37.317298</td>\n",
       "      <td>-122.444293</td>\n",
       "      <td>10.000000</td>\n",
       "      <td>1886.000000</td>\n",
       "    </tr>\n",
       "    <tr>\n",
       "      <th>25%</th>\n",
       "      <td>382.000000</td>\n",
       "      <td>24.000000</td>\n",
       "      <td>37.773492</td>\n",
       "      <td>-122.411726</td>\n",
       "      <td>23.000000</td>\n",
       "      <td>37.774520</td>\n",
       "      <td>-122.410345</td>\n",
       "      <td>787.000000</td>\n",
       "      <td>1974.000000</td>\n",
       "    </tr>\n",
       "    <tr>\n",
       "      <th>50%</th>\n",
       "      <td>596.000000</td>\n",
       "      <td>67.000000</td>\n",
       "      <td>37.783521</td>\n",
       "      <td>-122.398870</td>\n",
       "      <td>66.000000</td>\n",
       "      <td>37.783830</td>\n",
       "      <td>-122.398525</td>\n",
       "      <td>1728.500000</td>\n",
       "      <td>1983.000000</td>\n",
       "    </tr>\n",
       "    <tr>\n",
       "      <th>75%</th>\n",
       "      <td>938.000000</td>\n",
       "      <td>139.000000</td>\n",
       "      <td>37.795392</td>\n",
       "      <td>-122.391034</td>\n",
       "      <td>134.000000</td>\n",
       "      <td>37.795392</td>\n",
       "      <td>-122.391034</td>\n",
       "      <td>2520.000000</td>\n",
       "      <td>1988.000000</td>\n",
       "    </tr>\n",
       "    <tr>\n",
       "      <th>max</th>\n",
       "      <td>86369.000000</td>\n",
       "      <td>340.000000</td>\n",
       "      <td>37.880222</td>\n",
       "      <td>-121.874119</td>\n",
       "      <td>340.000000</td>\n",
       "      <td>37.880222</td>\n",
       "      <td>-121.874119</td>\n",
       "      <td>3733.000000</td>\n",
       "      <td>1999.000000</td>\n",
       "    </tr>\n",
       "  </tbody>\n",
       "</table>\n",
       "</div>"
      ],
      "text/plain": [
       "        duration_sec  start_station_id  start_station_latitude  \\\n",
       "count  519700.000000     519700.000000           519700.000000   \n",
       "mean     1099.009521         95.034245               37.771653   \n",
       "std      3444.146451         86.083078                0.086305   \n",
       "min        61.000000          3.000000               37.317298   \n",
       "25%       382.000000         24.000000               37.773492   \n",
       "50%       596.000000         67.000000               37.783521   \n",
       "75%       938.000000        139.000000               37.795392   \n",
       "max     86369.000000        340.000000               37.880222   \n",
       "\n",
       "       start_station_longitude  end_station_id  end_station_latitude  \\\n",
       "count            519700.000000   519700.000000         519700.000000   \n",
       "mean               -122.363927       92.184041             37.771844   \n",
       "std                   0.105573       84.969491              0.086224   \n",
       "min                -122.444293        3.000000             37.317298   \n",
       "25%                -122.411726       23.000000             37.774520   \n",
       "50%                -122.398870       66.000000             37.783830   \n",
       "75%                -122.391034      134.000000             37.795392   \n",
       "max                -121.874119      340.000000             37.880222   \n",
       "\n",
       "       end_station_longitude        bike_id  member_birth_year  \n",
       "count          519700.000000  519700.000000      453159.000000  \n",
       "mean             -122.363236    1672.533079        1980.404787  \n",
       "std                 0.105122     971.356959          10.513488  \n",
       "min              -122.444293      10.000000        1886.000000  \n",
       "25%              -122.410345     787.000000        1974.000000  \n",
       "50%              -122.398525    1728.500000        1983.000000  \n",
       "75%              -122.391034    2520.000000        1988.000000  \n",
       "max              -121.874119    3733.000000        1999.000000  "
      ]
     },
     "execution_count": 6,
     "metadata": {},
     "output_type": "execute_result"
    }
   ],
   "source": [
    "df.describe()"
   ]
  },
  {
   "cell_type": "code",
   "execution_count": 7,
   "metadata": {},
   "outputs": [
    {
     "name": "stdout",
     "output_type": "stream",
     "text": [
      "272\n",
      "272\n",
      "3673\n",
      "(519700, 15)\n"
     ]
    }
   ],
   "source": [
    "print(df.start_station_id.nunique()), #unique 272 stations\n",
    "print(df.end_station_id.nunique()), #unique 272 stations\n",
    "print(df.bike_id.nunique()), #3673 bikes present in San Franciso Bay Area\n",
    "print(df.shape) #dataset is only 518,700 rows of bike travel information"
   ]
  },
  {
   "cell_type": "code",
   "execution_count": 8,
   "metadata": {},
   "outputs": [
    {
     "data": {
      "text/plain": [
       "duration_sec                   0\n",
       "start_time                     0\n",
       "end_time                       0\n",
       "start_station_id               0\n",
       "start_station_name             0\n",
       "start_station_latitude         0\n",
       "start_station_longitude        0\n",
       "end_station_id                 0\n",
       "end_station_name               0\n",
       "end_station_latitude           0\n",
       "end_station_longitude          0\n",
       "bike_id                        0\n",
       "user_type                      0\n",
       "member_birth_year          66541\n",
       "member_gender              66462\n",
       "dtype: int64"
      ]
     },
     "execution_count": 8,
     "metadata": {},
     "output_type": "execute_result"
    }
   ],
   "source": [
    "df.isnull().sum() #birth year and gender have null values"
   ]
  },
  {
   "cell_type": "code",
   "execution_count": 9,
   "metadata": {},
   "outputs": [
    {
     "data": {
      "image/png": "[encoded data removed]",
      "text/plain": [
       "<Figure size 1080x864 with 9 Axes>"
      ]
     },
     "metadata": {
      "needs_background": "light"
     },
     "output_type": "display_data"
    }
   ],
   "source": [
    "df.hist(figsize=(15,12));"
   ]
  },
  {
   "cell_type": "markdown",
   "metadata": {},
   "source": [
    "###  Initial Quality issues:\n",
    "\n",
    "- First thing I noticed was that the start_time and end_time are string objects, need to convert them to datetime. \n",
    "- Duration_sec needs to be converted to minutes for easier reading \n",
    "- 'user_type' and 'member_gender' need to be converted to a categorical data type \n",
    "- Null values are present in Gender column and for Birth year column; Need to fix this issue\n",
    "- Fix member_birth_year -> outlier present in data, need to remove outliers as needed\n",
    "- Add new column for riders age for easier reading\n",
    "- Start and end time can be segregated in sections of week, month and year \n",
    "- Duration_sec looks like it has outliers as it is skewed to the right. Verify and fix the issue"
   ]
  },
  {
   "cell_type": "markdown",
   "metadata": {},
   "source": [
    "### Data Cleaning"
   ]
  },
  {
   "cell_type": "code",
   "execution_count": 10,
   "metadata": {},
   "outputs": [],
   "source": [
    "df_bike = df.copy() #copy to new dataframe and make changes so original dataframe is not effected"
   ]
  },
  {
   "cell_type": "markdown",
   "metadata": {},
   "source": [
    "**Define** <br>\n",
    "Creating a new column for members age mentioned in the 'Initial Quality issues'"
   ]
  },
  {
   "cell_type": "markdown",
   "metadata": {},
   "source": [
    "**Code** <br>"
   ]
  },
  {
   "cell_type": "code",
   "execution_count": 11,
   "metadata": {},
   "outputs": [],
   "source": [
    "#as the dataset is from 2017, we need to deduce riders age at that time\n",
    "df_bike['rider_age'] = 2017-df_bike['member_birth_year'] "
   ]
  },
  {
   "cell_type": "markdown",
   "metadata": {},
   "source": [
    "**Test** <br>"
   ]
  },
  {
   "cell_type": "code",
   "execution_count": 12,
   "metadata": {
    "scrolled": true
   },
   "outputs": [
    {
     "data": {
      "text/html": [
       "<div>\n",
       "<style scoped>\n",
       "    .dataframe tbody tr th:only-of-type {\n",
       "        vertical-align: middle;\n",
       "    }\n",
       "\n",
       "    .dataframe tbody tr th {\n",
       "        vertical-align: top;\n",
       "    }\n",
       "\n",
       "    .dataframe thead th {\n",
       "        text-align: right;\n",
       "    }\n",
       "</style>\n",
       "<table border=\"1\" class=\"dataframe\">\n",
       "  <thead>\n",
       "    <tr style=\"text-align: right;\">\n",
       "      <th></th>\n",
       "      <th>duration_sec</th>\n",
       "      <th>start_time</th>\n",
       "      <th>end_time</th>\n",
       "      <th>start_station_id</th>\n",
       "      <th>start_station_name</th>\n",
       "      <th>start_station_latitude</th>\n",
       "      <th>start_station_longitude</th>\n",
       "      <th>end_station_id</th>\n",
       "      <th>end_station_name</th>\n",
       "      <th>end_station_latitude</th>\n",
       "      <th>end_station_longitude</th>\n",
       "      <th>bike_id</th>\n",
       "      <th>user_type</th>\n",
       "      <th>member_birth_year</th>\n",
       "      <th>member_gender</th>\n",
       "      <th>rider_age</th>\n",
       "    </tr>\n",
       "  </thead>\n",
       "  <tbody>\n",
       "    <tr>\n",
       "      <th>0</th>\n",
       "      <td>80110</td>\n",
       "      <td>2017-12-31 16:57:39.6540</td>\n",
       "      <td>2018-01-01 15:12:50.2450</td>\n",
       "      <td>74</td>\n",
       "      <td>Laguna St at Hayes St</td>\n",
       "      <td>37.776435</td>\n",
       "      <td>-122.426244</td>\n",
       "      <td>43</td>\n",
       "      <td>San Francisco Public Library (Grove St at Hyde...</td>\n",
       "      <td>37.778768</td>\n",
       "      <td>-122.415929</td>\n",
       "      <td>96</td>\n",
       "      <td>Customer</td>\n",
       "      <td>1987.0</td>\n",
       "      <td>Male</td>\n",
       "      <td>30.0</td>\n",
       "    </tr>\n",
       "    <tr>\n",
       "      <th>1</th>\n",
       "      <td>78800</td>\n",
       "      <td>2017-12-31 15:56:34.8420</td>\n",
       "      <td>2018-01-01 13:49:55.6170</td>\n",
       "      <td>284</td>\n",
       "      <td>Yerba Buena Center for the Arts (Howard St at ...</td>\n",
       "      <td>37.784872</td>\n",
       "      <td>-122.400876</td>\n",
       "      <td>96</td>\n",
       "      <td>Dolores St at 15th St</td>\n",
       "      <td>37.766210</td>\n",
       "      <td>-122.426614</td>\n",
       "      <td>88</td>\n",
       "      <td>Customer</td>\n",
       "      <td>1965.0</td>\n",
       "      <td>Female</td>\n",
       "      <td>52.0</td>\n",
       "    </tr>\n",
       "    <tr>\n",
       "      <th>2</th>\n",
       "      <td>45768</td>\n",
       "      <td>2017-12-31 22:45:48.4110</td>\n",
       "      <td>2018-01-01 11:28:36.8830</td>\n",
       "      <td>245</td>\n",
       "      <td>Downtown Berkeley BART</td>\n",
       "      <td>37.870348</td>\n",
       "      <td>-122.267764</td>\n",
       "      <td>245</td>\n",
       "      <td>Downtown Berkeley BART</td>\n",
       "      <td>37.870348</td>\n",
       "      <td>-122.267764</td>\n",
       "      <td>1094</td>\n",
       "      <td>Customer</td>\n",
       "      <td>NaN</td>\n",
       "      <td>NaN</td>\n",
       "      <td>NaN</td>\n",
       "    </tr>\n",
       "    <tr>\n",
       "      <th>3</th>\n",
       "      <td>62172</td>\n",
       "      <td>2017-12-31 17:31:10.6360</td>\n",
       "      <td>2018-01-01 10:47:23.5310</td>\n",
       "      <td>60</td>\n",
       "      <td>8th St at Ringold St</td>\n",
       "      <td>37.774520</td>\n",
       "      <td>-122.409449</td>\n",
       "      <td>5</td>\n",
       "      <td>Powell St BART Station (Market St at 5th St)</td>\n",
       "      <td>37.783899</td>\n",
       "      <td>-122.408445</td>\n",
       "      <td>2831</td>\n",
       "      <td>Customer</td>\n",
       "      <td>NaN</td>\n",
       "      <td>NaN</td>\n",
       "      <td>NaN</td>\n",
       "    </tr>\n",
       "    <tr>\n",
       "      <th>4</th>\n",
       "      <td>43603</td>\n",
       "      <td>2017-12-31 14:23:14.0010</td>\n",
       "      <td>2018-01-01 02:29:57.5710</td>\n",
       "      <td>239</td>\n",
       "      <td>Bancroft Way at Telegraph Ave</td>\n",
       "      <td>37.868813</td>\n",
       "      <td>-122.258764</td>\n",
       "      <td>247</td>\n",
       "      <td>Fulton St at Bancroft Way</td>\n",
       "      <td>37.867789</td>\n",
       "      <td>-122.265896</td>\n",
       "      <td>3167</td>\n",
       "      <td>Subscriber</td>\n",
       "      <td>1997.0</td>\n",
       "      <td>Female</td>\n",
       "      <td>20.0</td>\n",
       "    </tr>\n",
       "  </tbody>\n",
       "</table>\n",
       "</div>"
      ],
      "text/plain": [
       "   duration_sec                start_time                  end_time  \\\n",
       "0         80110  2017-12-31 16:57:39.6540  2018-01-01 15:12:50.2450   \n",
       "1         78800  2017-12-31 15:56:34.8420  2018-01-01 13:49:55.6170   \n",
       "2         45768  2017-12-31 22:45:48.4110  2018-01-01 11:28:36.8830   \n",
       "3         62172  2017-12-31 17:31:10.6360  2018-01-01 10:47:23.5310   \n",
       "4         43603  2017-12-31 14:23:14.0010  2018-01-01 02:29:57.5710   \n",
       "\n",
       "   start_station_id                                 start_station_name  \\\n",
       "0                74                              Laguna St at Hayes St   \n",
       "1               284  Yerba Buena Center for the Arts (Howard St at ...   \n",
       "2               245                             Downtown Berkeley BART   \n",
       "3                60                               8th St at Ringold St   \n",
       "4               239                      Bancroft Way at Telegraph Ave   \n",
       "\n",
       "   start_station_latitude  start_station_longitude  end_station_id  \\\n",
       "0               37.776435              -122.426244              43   \n",
       "1               37.784872              -122.400876              96   \n",
       "2               37.870348              -122.267764             245   \n",
       "3               37.774520              -122.409449               5   \n",
       "4               37.868813              -122.258764             247   \n",
       "\n",
       "                                    end_station_name  end_station_latitude  \\\n",
       "0  San Francisco Public Library (Grove St at Hyde...             37.778768   \n",
       "1                              Dolores St at 15th St             37.766210   \n",
       "2                             Downtown Berkeley BART             37.870348   \n",
       "3       Powell St BART Station (Market St at 5th St)             37.783899   \n",
       "4                          Fulton St at Bancroft Way             37.867789   \n",
       "\n",
       "   end_station_longitude  bike_id   user_type  member_birth_year  \\\n",
       "0            -122.415929       96    Customer             1987.0   \n",
       "1            -122.426614       88    Customer             1965.0   \n",
       "2            -122.267764     1094    Customer                NaN   \n",
       "3            -122.408445     2831    Customer                NaN   \n",
       "4            -122.265896     3167  Subscriber             1997.0   \n",
       "\n",
       "  member_gender  rider_age  \n",
       "0          Male       30.0  \n",
       "1        Female       52.0  \n",
       "2           NaN        NaN  \n",
       "3           NaN        NaN  \n",
       "4        Female       20.0  "
      ]
     },
     "execution_count": 12,
     "metadata": {},
     "output_type": "execute_result"
    }
   ],
   "source": [
    "df_bike.head()"
   ]
  },
  {
   "cell_type": "markdown",
   "metadata": {},
   "source": [
    "**Define** <br>\n",
    "Removing the outliers from the rider_age dataset"
   ]
  },
  {
   "cell_type": "markdown",
   "metadata": {},
   "source": [
    "**Code** <br>"
   ]
  },
  {
   "cell_type": "code",
   "execution_count": 13,
   "metadata": {},
   "outputs": [
    {
     "data": {
      "text/plain": [
       "count    453159.000000\n",
       "mean         36.595213\n",
       "std          10.513488\n",
       "min          18.000000\n",
       "25%          29.000000\n",
       "50%          34.000000\n",
       "75%          43.000000\n",
       "max         131.000000\n",
       "Name: rider_age, dtype: float64"
      ]
     },
     "execution_count": 13,
     "metadata": {},
     "output_type": "execute_result"
    }
   ],
   "source": [
    "df_bike.rider_age.describe() #max of 131, a rider with an age of 131 seems unlinkely"
   ]
  },
  {
   "cell_type": "code",
   "execution_count": 14,
   "metadata": {
    "scrolled": false
   },
   "outputs": [
    {
     "data": {
      "image/png": "[encoded data removed]",
      "text/plain": [
       "<Figure size 576x360 with 1 Axes>"
      ]
     },
     "metadata": {
      "needs_background": "light"
     },
     "output_type": "display_data"
    }
   ],
   "source": [
    "# lets take a look at the age distribution\n",
    "binsize = 1\n",
    "bins = np.arange(15, df_bike['rider_age'].max()+binsize, binsize)\n",
    "\n",
    "plt.figure(figsize=[8, 5])\n",
    "plt.hist(data = df_bike, x = 'rider_age', bins = bins)\n",
    "plt.xlabel(\"Rider's Age\")\n",
    "plt.show()"
   ]
  },
  {
   "cell_type": "markdown",
   "metadata": {},
   "source": [
    "Graph is skewed to the right, and seems to have outliers that extend past 100 age mark. This seems very unlikely, but we must verify with data before removing these datasets"
   ]
  },
  {
   "cell_type": "code",
   "execution_count": 15,
   "metadata": {},
   "outputs": [
    {
     "data": {
      "image/png": "[encoded data removed]",
      "text/plain": [
       "<Figure size 864x288 with 1 Axes>"
      ]
     },
     "metadata": {},
     "output_type": "display_data"
    }
   ],
   "source": [
    "#another graph to determine outliers\n",
    "sns.set_style(\"darkgrid\")\n",
    "plt.figure(figsize=(12,4))\n",
    "\n",
    "sns.boxplot(x='rider_age', data=df_bike, color='red')\n",
    "\n",
    "#Labelling the plot \n",
    "plt.title(\"Age Distribution of FordGo Bike Riders\", fontsize=20)\n",
    "plt.xlabel(\"Ages of riders\", fontsize=15)\n",
    "plt.savefig('boxofwhisk_agedist.png');\n",
    "plt.show()"
   ]
  },
  {
   "cell_type": "code",
   "execution_count": 17,
   "metadata": {
    "scrolled": false
   },
   "outputs": [
    {
     "name": "stdout",
     "output_type": "stream",
     "text": [
      "688\n"
     ]
    },
    {
     "data": {
      "text/html": [
       "<div>\n",
       "<style scoped>\n",
       "    .dataframe tbody tr th:only-of-type {\n",
       "        vertical-align: middle;\n",
       "    }\n",
       "\n",
       "    .dataframe tbody tr th {\n",
       "        vertical-align: top;\n",
       "    }\n",
       "\n",
       "    .dataframe thead th {\n",
       "        text-align: right;\n",
       "    }\n",
       "</style>\n",
       "<table border=\"1\" class=\"dataframe\">\n",
       "  <thead>\n",
       "    <tr style=\"text-align: right;\">\n",
       "      <th></th>\n",
       "      <th>duration_sec</th>\n",
       "      <th>start_time</th>\n",
       "      <th>end_time</th>\n",
       "      <th>start_station_id</th>\n",
       "      <th>start_station_name</th>\n",
       "      <th>start_station_latitude</th>\n",
       "      <th>start_station_longitude</th>\n",
       "      <th>end_station_id</th>\n",
       "      <th>end_station_name</th>\n",
       "      <th>end_station_latitude</th>\n",
       "      <th>end_station_longitude</th>\n",
       "      <th>bike_id</th>\n",
       "      <th>user_type</th>\n",
       "      <th>member_birth_year</th>\n",
       "      <th>member_gender</th>\n",
       "      <th>rider_age</th>\n",
       "    </tr>\n",
       "  </thead>\n",
       "  <tbody>\n",
       "    <tr>\n",
       "      <th>287</th>\n",
       "      <td>581</td>\n",
       "      <td>2017-12-31 18:10:46.5560</td>\n",
       "      <td>2017-12-31 18:20:28.3520</td>\n",
       "      <td>274</td>\n",
       "      <td>Oregon St at Adeline St</td>\n",
       "      <td>37.857567</td>\n",
       "      <td>-122.267558</td>\n",
       "      <td>173</td>\n",
       "      <td>Shattuck Ave at 55th Ave</td>\n",
       "      <td>37.840364</td>\n",
       "      <td>-122.264488</td>\n",
       "      <td>3050</td>\n",
       "      <td>Subscriber</td>\n",
       "      <td>1900.0</td>\n",
       "      <td>Male</td>\n",
       "      <td>117.0</td>\n",
       "    </tr>\n",
       "    <tr>\n",
       "      <th>1751</th>\n",
       "      <td>370</td>\n",
       "      <td>2017-12-30 17:17:54.9690</td>\n",
       "      <td>2017-12-30 17:24:05.4810</td>\n",
       "      <td>207</td>\n",
       "      <td>Broadway at Coronado Ave</td>\n",
       "      <td>37.835788</td>\n",
       "      <td>-122.251621</td>\n",
       "      <td>173</td>\n",
       "      <td>Shattuck Ave at 55th Ave</td>\n",
       "      <td>37.840364</td>\n",
       "      <td>-122.264488</td>\n",
       "      <td>456</td>\n",
       "      <td>Subscriber</td>\n",
       "      <td>1900.0</td>\n",
       "      <td>Male</td>\n",
       "      <td>117.0</td>\n",
       "    </tr>\n",
       "    <tr>\n",
       "      <th>3119</th>\n",
       "      <td>457</td>\n",
       "      <td>2017-12-29 18:24:08.7220</td>\n",
       "      <td>2017-12-29 18:31:46.0080</td>\n",
       "      <td>207</td>\n",
       "      <td>Broadway at Coronado Ave</td>\n",
       "      <td>37.835788</td>\n",
       "      <td>-122.251621</td>\n",
       "      <td>173</td>\n",
       "      <td>Shattuck Ave at 55th Ave</td>\n",
       "      <td>37.840364</td>\n",
       "      <td>-122.264488</td>\n",
       "      <td>1238</td>\n",
       "      <td>Subscriber</td>\n",
       "      <td>1900.0</td>\n",
       "      <td>Male</td>\n",
       "      <td>117.0</td>\n",
       "    </tr>\n",
       "    <tr>\n",
       "      <th>3259</th>\n",
       "      <td>613</td>\n",
       "      <td>2017-12-29 17:20:22.0960</td>\n",
       "      <td>2017-12-29 17:30:35.5270</td>\n",
       "      <td>173</td>\n",
       "      <td>Shattuck Ave at 55th Ave</td>\n",
       "      <td>37.840364</td>\n",
       "      <td>-122.264488</td>\n",
       "      <td>207</td>\n",
       "      <td>Broadway at Coronado Ave</td>\n",
       "      <td>37.835788</td>\n",
       "      <td>-122.251621</td>\n",
       "      <td>1238</td>\n",
       "      <td>Subscriber</td>\n",
       "      <td>1900.0</td>\n",
       "      <td>Male</td>\n",
       "      <td>117.0</td>\n",
       "    </tr>\n",
       "    <tr>\n",
       "      <th>5246</th>\n",
       "      <td>271</td>\n",
       "      <td>2017-12-28 16:48:41.3100</td>\n",
       "      <td>2017-12-28 16:53:12.6450</td>\n",
       "      <td>158</td>\n",
       "      <td>Shattuck Ave at Telegraph Ave</td>\n",
       "      <td>37.833279</td>\n",
       "      <td>-122.263490</td>\n",
       "      <td>173</td>\n",
       "      <td>Shattuck Ave at 55th Ave</td>\n",
       "      <td>37.840364</td>\n",
       "      <td>-122.264488</td>\n",
       "      <td>173</td>\n",
       "      <td>Subscriber</td>\n",
       "      <td>1900.0</td>\n",
       "      <td>Male</td>\n",
       "      <td>117.0</td>\n",
       "    </tr>\n",
       "    <tr>\n",
       "      <th>7183</th>\n",
       "      <td>656</td>\n",
       "      <td>2017-12-27 16:37:47.8630</td>\n",
       "      <td>2017-12-27 16:48:44.3070</td>\n",
       "      <td>19</td>\n",
       "      <td>Post St at Kearny St</td>\n",
       "      <td>37.788975</td>\n",
       "      <td>-122.403452</td>\n",
       "      <td>30</td>\n",
       "      <td>San Francisco Caltrain (Townsend St at 4th St)</td>\n",
       "      <td>37.776598</td>\n",
       "      <td>-122.395282</td>\n",
       "      <td>3646</td>\n",
       "      <td>Subscriber</td>\n",
       "      <td>1902.0</td>\n",
       "      <td>Male</td>\n",
       "      <td>115.0</td>\n",
       "    </tr>\n",
       "    <tr>\n",
       "      <th>8077</th>\n",
       "      <td>501</td>\n",
       "      <td>2017-12-27 09:10:01.2100</td>\n",
       "      <td>2017-12-27 09:18:22.3530</td>\n",
       "      <td>67</td>\n",
       "      <td>San Francisco Caltrain Station 2  (Townsend St...</td>\n",
       "      <td>37.776639</td>\n",
       "      <td>-122.395526</td>\n",
       "      <td>21</td>\n",
       "      <td>Montgomery St BART Station (Market St at 2nd St)</td>\n",
       "      <td>37.789625</td>\n",
       "      <td>-122.400811</td>\n",
       "      <td>3672</td>\n",
       "      <td>Subscriber</td>\n",
       "      <td>1902.0</td>\n",
       "      <td>Male</td>\n",
       "      <td>115.0</td>\n",
       "    </tr>\n",
       "    <tr>\n",
       "      <th>9838</th>\n",
       "      <td>571</td>\n",
       "      <td>2017-12-25 22:03:23.3280</td>\n",
       "      <td>2017-12-25 22:12:54.9590</td>\n",
       "      <td>176</td>\n",
       "      <td>MacArthur BART Station</td>\n",
       "      <td>37.828410</td>\n",
       "      <td>-122.266315</td>\n",
       "      <td>173</td>\n",
       "      <td>Shattuck Ave at 55th Ave</td>\n",
       "      <td>37.840364</td>\n",
       "      <td>-122.264488</td>\n",
       "      <td>2507</td>\n",
       "      <td>Subscriber</td>\n",
       "      <td>1900.0</td>\n",
       "      <td>Male</td>\n",
       "      <td>117.0</td>\n",
       "    </tr>\n",
       "    <tr>\n",
       "      <th>10712</th>\n",
       "      <td>505</td>\n",
       "      <td>2017-12-24 17:05:39.4820</td>\n",
       "      <td>2017-12-24 17:14:05.1870</td>\n",
       "      <td>274</td>\n",
       "      <td>Oregon St at Adeline St</td>\n",
       "      <td>37.857567</td>\n",
       "      <td>-122.267558</td>\n",
       "      <td>173</td>\n",
       "      <td>Shattuck Ave at 55th Ave</td>\n",
       "      <td>37.840364</td>\n",
       "      <td>-122.264488</td>\n",
       "      <td>1551</td>\n",
       "      <td>Subscriber</td>\n",
       "      <td>1900.0</td>\n",
       "      <td>Male</td>\n",
       "      <td>117.0</td>\n",
       "    </tr>\n",
       "    <tr>\n",
       "      <th>13035</th>\n",
       "      <td>402</td>\n",
       "      <td>2017-12-22 15:26:22.8050</td>\n",
       "      <td>2017-12-22 15:33:05.7660</td>\n",
       "      <td>173</td>\n",
       "      <td>Shattuck Ave at 55th Ave</td>\n",
       "      <td>37.840364</td>\n",
       "      <td>-122.264488</td>\n",
       "      <td>176</td>\n",
       "      <td>MacArthur BART Station</td>\n",
       "      <td>37.828410</td>\n",
       "      <td>-122.266315</td>\n",
       "      <td>887</td>\n",
       "      <td>Subscriber</td>\n",
       "      <td>1900.0</td>\n",
       "      <td>Male</td>\n",
       "      <td>117.0</td>\n",
       "    </tr>\n",
       "  </tbody>\n",
       "</table>\n",
       "</div>"
      ],
      "text/plain": [
       "       duration_sec                start_time                  end_time  \\\n",
       "287             581  2017-12-31 18:10:46.5560  2017-12-31 18:20:28.3520   \n",
       "1751            370  2017-12-30 17:17:54.9690  2017-12-30 17:24:05.4810   \n",
       "3119            457  2017-12-29 18:24:08.7220  2017-12-29 18:31:46.0080   \n",
       "3259            613  2017-12-29 17:20:22.0960  2017-12-29 17:30:35.5270   \n",
       "5246            271  2017-12-28 16:48:41.3100  2017-12-28 16:53:12.6450   \n",
       "7183            656  2017-12-27 16:37:47.8630  2017-12-27 16:48:44.3070   \n",
       "8077            501  2017-12-27 09:10:01.2100  2017-12-27 09:18:22.3530   \n",
       "9838            571  2017-12-25 22:03:23.3280  2017-12-25 22:12:54.9590   \n",
       "10712           505  2017-12-24 17:05:39.4820  2017-12-24 17:14:05.1870   \n",
       "13035           402  2017-12-22 15:26:22.8050  2017-12-22 15:33:05.7660   \n",
       "\n",
       "       start_station_id                                 start_station_name  \\\n",
       "287                 274                            Oregon St at Adeline St   \n",
       "1751                207                           Broadway at Coronado Ave   \n",
       "3119                207                           Broadway at Coronado Ave   \n",
       "3259                173                           Shattuck Ave at 55th Ave   \n",
       "5246                158                      Shattuck Ave at Telegraph Ave   \n",
       "7183                 19                               Post St at Kearny St   \n",
       "8077                 67  San Francisco Caltrain Station 2  (Townsend St...   \n",
       "9838                176                             MacArthur BART Station   \n",
       "10712               274                            Oregon St at Adeline St   \n",
       "13035               173                           Shattuck Ave at 55th Ave   \n",
       "\n",
       "       start_station_latitude  start_station_longitude  end_station_id  \\\n",
       "287                 37.857567              -122.267558             173   \n",
       "1751                37.835788              -122.251621             173   \n",
       "3119                37.835788              -122.251621             173   \n",
       "3259                37.840364              -122.264488             207   \n",
       "5246                37.833279              -122.263490             173   \n",
       "7183                37.788975              -122.403452              30   \n",
       "8077                37.776639              -122.395526              21   \n",
       "9838                37.828410              -122.266315             173   \n",
       "10712               37.857567              -122.267558             173   \n",
       "13035               37.840364              -122.264488             176   \n",
       "\n",
       "                                       end_station_name  end_station_latitude  \\\n",
       "287                            Shattuck Ave at 55th Ave             37.840364   \n",
       "1751                           Shattuck Ave at 55th Ave             37.840364   \n",
       "3119                           Shattuck Ave at 55th Ave             37.840364   \n",
       "3259                           Broadway at Coronado Ave             37.835788   \n",
       "5246                           Shattuck Ave at 55th Ave             37.840364   \n",
       "7183     San Francisco Caltrain (Townsend St at 4th St)             37.776598   \n",
       "8077   Montgomery St BART Station (Market St at 2nd St)             37.789625   \n",
       "9838                           Shattuck Ave at 55th Ave             37.840364   \n",
       "10712                          Shattuck Ave at 55th Ave             37.840364   \n",
       "13035                            MacArthur BART Station             37.828410   \n",
       "\n",
       "       end_station_longitude  bike_id   user_type  member_birth_year  \\\n",
       "287              -122.264488     3050  Subscriber             1900.0   \n",
       "1751             -122.264488      456  Subscriber             1900.0   \n",
       "3119             -122.264488     1238  Subscriber             1900.0   \n",
       "3259             -122.251621     1238  Subscriber             1900.0   \n",
       "5246             -122.264488      173  Subscriber             1900.0   \n",
       "7183             -122.395282     3646  Subscriber             1902.0   \n",
       "8077             -122.400811     3672  Subscriber             1902.0   \n",
       "9838             -122.264488     2507  Subscriber             1900.0   \n",
       "10712            -122.264488     1551  Subscriber             1900.0   \n",
       "13035            -122.266315      887  Subscriber             1900.0   \n",
       "\n",
       "      member_gender  rider_age  \n",
       "287            Male      117.0  \n",
       "1751           Male      117.0  \n",
       "3119           Male      117.0  \n",
       "3259           Male      117.0  \n",
       "5246           Male      117.0  \n",
       "7183           Male      115.0  \n",
       "8077           Male      115.0  \n",
       "9838           Male      117.0  \n",
       "10712          Male      117.0  \n",
       "13035          Male      117.0  "
      ]
     },
     "execution_count": 17,
     "metadata": {},
     "output_type": "execute_result"
    }
   ],
   "source": [
    "#Estimating from graph and checking for outliers past the 80 year mark \n",
    "old_age_outliers = (df_bike['rider_age'] > 80)\n",
    "\n",
    "print(old_age_outliers.sum());\n",
    "df_bike.loc[old_age_outliers,:][:10] #displaying first 10 instead of 1687 datasets"
   ]
  },
  {
   "cell_type": "markdown",
   "metadata": {},
   "source": [
    "Removing outliers of riders age in order to make it more realistic and fit to the relativity of data"
   ]
  },
  {
   "cell_type": "code",
   "execution_count": 18,
   "metadata": {},
   "outputs": [
    {
     "name": "stdout",
     "output_type": "stream",
     "text": [
      "36.595212717831934\n",
      "34.0\n"
     ]
    }
   ],
   "source": [
    "print(df_bike.rider_age.mean())\n",
    "print(df_bike.rider_age.median())"
   ]
  },
  {
   "cell_type": "code",
   "execution_count": 19,
   "metadata": {},
   "outputs": [
    {
     "data": {
      "text/plain": [
       "count    453159.000000\n",
       "mean         36.595213\n",
       "std          10.513488\n",
       "min          18.000000\n",
       "50%          34.000000\n",
       "75%          43.000000\n",
       "80%          45.000000\n",
       "90%          52.000000\n",
       "95%          56.000000\n",
       "99%          66.000000\n",
       "max         131.000000\n",
       "Name: rider_age, dtype: float64"
      ]
     },
     "execution_count": 19,
     "metadata": {},
     "output_type": "execute_result"
    }
   ],
   "source": [
    "#instead of eyeballing from graph, lets look at percentiles\n",
    "df_bike.rider_age.describe(percentiles = [.75, .8, .9, .95, .99])"
   ]
  },
  {
   "cell_type": "markdown",
   "metadata": {},
   "source": [
    "99th percentile shows that most of the data falls below age 66; we will make the dataset below 66 and in process this will eliminate any given outliers of data"
   ]
  },
  {
   "cell_type": "code",
   "execution_count": 20,
   "metadata": {
    "scrolled": true
   },
   "outputs": [
    {
     "data": {
      "text/plain": [
       "duration_sec               3925\n",
       "start_time                 3925\n",
       "end_time                   3925\n",
       "start_station_id           3925\n",
       "start_station_name         3925\n",
       "start_station_latitude     3925\n",
       "start_station_longitude    3925\n",
       "end_station_id             3925\n",
       "end_station_name           3925\n",
       "end_station_latitude       3925\n",
       "end_station_longitude      3925\n",
       "bike_id                    3925\n",
       "user_type                  3925\n",
       "member_birth_year          3925\n",
       "member_gender              3925\n",
       "rider_age                  3925\n",
       "dtype: int64"
      ]
     },
     "execution_count": 20,
     "metadata": {},
     "output_type": "execute_result"
    }
   ],
   "source": [
    "df_bike.query('rider_age > 66').count() #only 3925 outliers; we can drop this dataset"
   ]
  },
  {
   "cell_type": "code",
   "execution_count": 21,
   "metadata": {},
   "outputs": [],
   "source": [
    "df_bike = df_bike.query('rider_age <= 66') #only keeping data for riders below age 66"
   ]
  },
  {
   "cell_type": "code",
   "execution_count": 22,
   "metadata": {
    "scrolled": false
   },
   "outputs": [
    {
     "data": {
      "image/png": "[encoded data removed]",
      "text/plain": [
       "<Figure size 864x288 with 1 Axes>"
      ]
     },
     "metadata": {},
     "output_type": "display_data"
    }
   ],
   "source": [
    "#notice the outliers being greatly reduced\n",
    "\n",
    "sns.set_style(\"darkgrid\")\n",
    "plt.figure(figsize=(12,4))\n",
    "\n",
    "sns.boxplot(x='rider_age', data=df_bike, color='red')\n",
    "\n",
    "#Labelling the plot \n",
    "plt.title(\"Age Distribution of FordGo Bike Riders\", fontsize=20)\n",
    "plt.xlabel(\"Ages of riders\", fontsize=15)\n",
    "plt.savefig('boxofwhisk_agedist.png');"
   ]
  },
  {
   "cell_type": "markdown",
   "metadata": {},
   "source": [
    "**Test** <br>"
   ]
  },
  {
   "cell_type": "code",
   "execution_count": 23,
   "metadata": {
    "scrolled": false
   },
   "outputs": [
    {
     "data": {
      "text/plain": [
       "508077    66.0\n",
       "331060    66.0\n",
       "90885     66.0\n",
       "513210    66.0\n",
       "494595    66.0\n",
       "347444    66.0\n",
       "234459    66.0\n",
       "22303     66.0\n",
       "354972    66.0\n",
       "193980    66.0\n",
       "55450     66.0\n",
       "336378    66.0\n",
       "185698    66.0\n",
       "328510    66.0\n",
       "258348    66.0\n",
       "41835     66.0\n",
       "266465    66.0\n",
       "341006    66.0\n",
       "282728    66.0\n",
       "102376    66.0\n",
       "118329    66.0\n",
       "156265    66.0\n",
       "210329    66.0\n",
       "102454    66.0\n",
       "236353    66.0\n",
       "515392    66.0\n",
       "303155    66.0\n",
       "116123    66.0\n",
       "262771    66.0\n",
       "234431    66.0\n",
       "          ... \n",
       "271970    18.0\n",
       "517958    18.0\n",
       "143679    18.0\n",
       "52847     18.0\n",
       "257538    18.0\n",
       "257530    18.0\n",
       "387064    18.0\n",
       "17611     18.0\n",
       "28262     18.0\n",
       "494079    18.0\n",
       "342991    18.0\n",
       "87606     18.0\n",
       "477425    18.0\n",
       "66140     18.0\n",
       "121589    18.0\n",
       "494860    18.0\n",
       "494853    18.0\n",
       "361530    18.0\n",
       "244835    18.0\n",
       "17230     18.0\n",
       "424868    18.0\n",
       "3443      18.0\n",
       "361757    18.0\n",
       "62534     18.0\n",
       "378522    18.0\n",
       "53184     18.0\n",
       "94975     18.0\n",
       "79359     18.0\n",
       "387194    18.0\n",
       "459805    18.0\n",
       "Name: rider_age, Length: 449234, dtype: float64"
      ]
     },
     "execution_count": 23,
     "metadata": {},
     "output_type": "execute_result"
    }
   ],
   "source": [
    "df_bike.rider_age.sort_values(ascending=False) #oldest age is 66, just as expected"
   ]
  },
  {
   "cell_type": "markdown",
   "metadata": {},
   "source": [
    "**Define** <br>\n",
    "Duration of trip from seconds to minutes"
   ]
  },
  {
   "cell_type": "markdown",
   "metadata": {},
   "source": [
    "**Code**"
   ]
  },
  {
   "cell_type": "code",
   "execution_count": 24,
   "metadata": {},
   "outputs": [],
   "source": [
    "df_bike['duration_sec'] = df_bike['duration_sec'].apply(lambda x: (x/60))"
   ]
  },
  {
   "cell_type": "code",
   "execution_count": 25,
   "metadata": {},
   "outputs": [],
   "source": [
    "df_bike.rename(columns={\"duration_sec\": \"duration_min\"}, inplace=True)"
   ]
  },
  {
   "cell_type": "markdown",
   "metadata": {},
   "source": [
    "**Test**"
   ]
  },
  {
   "cell_type": "code",
   "execution_count": 26,
   "metadata": {},
   "outputs": [
    {
     "name": "stdout",
     "output_type": "stream",
     "text": [
      "<class 'pandas.core.frame.DataFrame'>\n",
      "Int64Index: 449234 entries, 0 to 519699\n",
      "Data columns (total 16 columns):\n",
      "duration_min               449234 non-null float64\n",
      "start_time                 449234 non-null object\n",
      "end_time                   449234 non-null object\n",
      "start_station_id           449234 non-null int64\n",
      "start_station_name         449234 non-null object\n",
      "start_station_latitude     449234 non-null float64\n",
      "start_station_longitude    449234 non-null float64\n",
      "end_station_id             449234 non-null int64\n",
      "end_station_name           449234 non-null object\n",
      "end_station_latitude       449234 non-null float64\n",
      "end_station_longitude      449234 non-null float64\n",
      "bike_id                    449234 non-null int64\n",
      "user_type                  449234 non-null object\n",
      "member_birth_year          449234 non-null float64\n",
      "member_gender              449234 non-null object\n",
      "rider_age                  449234 non-null float64\n",
      "dtypes: float64(7), int64(3), object(6)\n",
      "memory usage: 58.3+ MB\n",
      "None\n"
     ]
    },
    {
     "data": {
      "text/html": [
       "<div>\n",
       "<style scoped>\n",
       "    .dataframe tbody tr th:only-of-type {\n",
       "        vertical-align: middle;\n",
       "    }\n",
       "\n",
       "    .dataframe tbody tr th {\n",
       "        vertical-align: top;\n",
       "    }\n",
       "\n",
       "    .dataframe thead th {\n",
       "        text-align: right;\n",
       "    }\n",
       "</style>\n",
       "<table border=\"1\" class=\"dataframe\">\n",
       "  <thead>\n",
       "    <tr style=\"text-align: right;\">\n",
       "      <th></th>\n",
       "      <th>duration_min</th>\n",
       "      <th>start_time</th>\n",
       "      <th>end_time</th>\n",
       "      <th>start_station_id</th>\n",
       "      <th>start_station_name</th>\n",
       "      <th>start_station_latitude</th>\n",
       "      <th>start_station_longitude</th>\n",
       "      <th>end_station_id</th>\n",
       "      <th>end_station_name</th>\n",
       "      <th>end_station_latitude</th>\n",
       "      <th>end_station_longitude</th>\n",
       "      <th>bike_id</th>\n",
       "      <th>user_type</th>\n",
       "      <th>member_birth_year</th>\n",
       "      <th>member_gender</th>\n",
       "      <th>rider_age</th>\n",
       "    </tr>\n",
       "  </thead>\n",
       "  <tbody>\n",
       "    <tr>\n",
       "      <th>0</th>\n",
       "      <td>1335.166667</td>\n",
       "      <td>2017-12-31 16:57:39.6540</td>\n",
       "      <td>2018-01-01 15:12:50.2450</td>\n",
       "      <td>74</td>\n",
       "      <td>Laguna St at Hayes St</td>\n",
       "      <td>37.776435</td>\n",
       "      <td>-122.426244</td>\n",
       "      <td>43</td>\n",
       "      <td>San Francisco Public Library (Grove St at Hyde...</td>\n",
       "      <td>37.778768</td>\n",
       "      <td>-122.415929</td>\n",
       "      <td>96</td>\n",
       "      <td>Customer</td>\n",
       "      <td>1987.0</td>\n",
       "      <td>Male</td>\n",
       "      <td>30.0</td>\n",
       "    </tr>\n",
       "  </tbody>\n",
       "</table>\n",
       "</div>"
      ],
      "text/plain": [
       "   duration_min                start_time                  end_time  \\\n",
       "0   1335.166667  2017-12-31 16:57:39.6540  2018-01-01 15:12:50.2450   \n",
       "\n",
       "   start_station_id     start_station_name  start_station_latitude  \\\n",
       "0                74  Laguna St at Hayes St               37.776435   \n",
       "\n",
       "   start_station_longitude  end_station_id  \\\n",
       "0              -122.426244              43   \n",
       "\n",
       "                                    end_station_name  end_station_latitude  \\\n",
       "0  San Francisco Public Library (Grove St at Hyde...             37.778768   \n",
       "\n",
       "   end_station_longitude  bike_id user_type  member_birth_year member_gender  \\\n",
       "0            -122.415929       96  Customer             1987.0          Male   \n",
       "\n",
       "   rider_age  \n",
       "0       30.0  "
      ]
     },
     "execution_count": 26,
     "metadata": {},
     "output_type": "execute_result"
    }
   ],
   "source": [
    "print(df_bike.info()); df_bike.head(1)"
   ]
  },
  {
   "cell_type": "markdown",
   "metadata": {},
   "source": [
    "**Define** <br>\n",
    "Removing the outliers from trip durations"
   ]
  },
  {
   "cell_type": "markdown",
   "metadata": {},
   "source": [
    "**Code**"
   ]
  },
  {
   "cell_type": "code",
   "execution_count": 27,
   "metadata": {
    "scrolled": true
   },
   "outputs": [
    {
     "data": {
      "text/plain": [
       "count    449234.000000\n",
       "mean         13.881129\n",
       "std          42.081107\n",
       "min           1.016667\n",
       "25%           6.066667\n",
       "50%           9.266667\n",
       "75%          13.966667\n",
       "max        1437.533333\n",
       "Name: duration_min, dtype: float64"
      ]
     },
     "execution_count": 27,
     "metadata": {},
     "output_type": "execute_result"
    }
   ],
   "source": [
    "df_bike.duration_min.describe()"
   ]
  },
  {
   "cell_type": "markdown",
   "metadata": {},
   "source": [
    "max of 1437 with mean of 13 certainly indicates that there are outliers in this dataset; lets visualize this"
   ]
  },
  {
   "cell_type": "code",
   "execution_count": 28,
   "metadata": {},
   "outputs": [
    {
     "data": {
      "text/plain": [
       "Text(0.5, 0, 'Duration')"
      ]
     },
     "execution_count": 28,
     "metadata": {},
     "output_type": "execute_result"
    },
    {
     "data": {
      "image/png": "[encoded data removed]",
      "text/plain": [
       "<Figure size 432x288 with 1 Axes>"
      ]
     },
     "metadata": {},
     "output_type": "display_data"
    }
   ],
   "source": [
    "#utilizing graphing tool to determine any outliers\n",
    "\n",
    "bins = np.arange(0, 1000,10)\n",
    "\n",
    "plt.hist(data = df_bike, x = 'duration_min', bins = bins)\n",
    "\n",
    "plt.xlabel('Duration')"
   ]
  },
  {
   "cell_type": "markdown",
   "metadata": {},
   "source": [
    "Graph looks to be skewed right and has x values extending far right. This dataset does not look right, need to identify via percentiles for any strange data"
   ]
  },
  {
   "cell_type": "code",
   "execution_count": 29,
   "metadata": {
    "scrolled": false
   },
   "outputs": [
    {
     "data": {
      "text/plain": [
       "count    449234.000000\n",
       "mean         13.881129\n",
       "std          42.081107\n",
       "min           1.016667\n",
       "50%           9.266667\n",
       "75%          13.966667\n",
       "80%          15.516667\n",
       "90%          20.716667\n",
       "95%          26.666667\n",
       "99%          74.922333\n",
       "max        1437.533333\n",
       "Name: duration_min, dtype: float64"
      ]
     },
     "execution_count": 29,
     "metadata": {},
     "output_type": "execute_result"
    }
   ],
   "source": [
    "#instead of eyeballing from graph, lets look at percentiles\n",
    "df_bike.duration_min.describe(percentiles = [.75, .8, .9, .95, .99])"
   ]
  },
  {
   "cell_type": "code",
   "execution_count": 30,
   "metadata": {},
   "outputs": [
    {
     "data": {
      "text/plain": [
       "4488"
      ]
     },
     "execution_count": 30,
     "metadata": {},
     "output_type": "execute_result"
    }
   ],
   "source": [
    "df_bike.query('duration_min > 75').count()['duration_min']"
   ]
  },
  {
   "cell_type": "markdown",
   "metadata": {},
   "source": [
    "99th percentile indicates that only 1 percentile of the data falls out of the norm and 4,488 rows of data need to be removed in order to keep the dataset consistent. "
   ]
  },
  {
   "cell_type": "code",
   "execution_count": 31,
   "metadata": {},
   "outputs": [],
   "source": [
    "df_bike = df_bike.query('duration_min <= 75') #same as before; deleting outlier rows"
   ]
  },
  {
   "cell_type": "markdown",
   "metadata": {},
   "source": [
    "**Test**"
   ]
  },
  {
   "cell_type": "code",
   "execution_count": 32,
   "metadata": {
    "scrolled": false
   },
   "outputs": [
    {
     "name": "stdout",
     "output_type": "stream",
     "text": [
      "<class 'pandas.core.frame.DataFrame'>\n",
      "Int64Index: 444746 entries, 12 to 519699\n",
      "Data columns (total 16 columns):\n",
      "duration_min               444746 non-null float64\n",
      "start_time                 444746 non-null object\n",
      "end_time                   444746 non-null object\n",
      "start_station_id           444746 non-null int64\n",
      "start_station_name         444746 non-null object\n",
      "start_station_latitude     444746 non-null float64\n",
      "start_station_longitude    444746 non-null float64\n",
      "end_station_id             444746 non-null int64\n",
      "end_station_name           444746 non-null object\n",
      "end_station_latitude       444746 non-null float64\n",
      "end_station_longitude      444746 non-null float64\n",
      "bike_id                    444746 non-null int64\n",
      "user_type                  444746 non-null object\n",
      "member_birth_year          444746 non-null float64\n",
      "member_gender              444746 non-null object\n",
      "rider_age                  444746 non-null float64\n",
      "dtypes: float64(7), int64(3), object(6)\n",
      "memory usage: 57.7+ MB\n"
     ]
    },
    {
     "data": {
      "text/plain": [
       "duration_min               0\n",
       "start_time                 0\n",
       "end_time                   0\n",
       "start_station_id           0\n",
       "start_station_name         0\n",
       "start_station_latitude     0\n",
       "start_station_longitude    0\n",
       "end_station_id             0\n",
       "end_station_name           0\n",
       "end_station_latitude       0\n",
       "end_station_longitude      0\n",
       "bike_id                    0\n",
       "user_type                  0\n",
       "member_birth_year          0\n",
       "member_gender              0\n",
       "rider_age                  0\n",
       "dtype: int64"
      ]
     },
     "execution_count": 32,
     "metadata": {},
     "output_type": "execute_result"
    }
   ],
   "source": [
    "df_bike.info(); df_bike.isnull().sum()#looks good and aslo null values have also been rectified by this deletion"
   ]
  },
  {
   "cell_type": "markdown",
   "metadata": {},
   "source": [
    "**Define** <br>\n",
    "Rider age will be grouped together in order to analyze data better"
   ]
  },
  {
   "cell_type": "markdown",
   "metadata": {},
   "source": [
    "**Code**"
   ]
  },
  {
   "cell_type": "code",
   "execution_count": 33,
   "metadata": {},
   "outputs": [],
   "source": [
    "df_bike['member_age_groups'] = df_bike['rider_age'].apply(lambda x: '10 - 20' if 10<x<=20\n",
    "                                                  else '20 - 30' if 20<x<=30\n",
    "                                                  else '30 - 40' if 30<x<=40\n",
    "                                                  else '40 - 50' if 40<x<=50\n",
    "                                                  else '50 - 60' if 50<x<=60\n",
    "                                                  else '60 - 70' if 60<x<=70\n",
    "                                                  else x) #using apply function to create "
   ]
  },
  {
   "cell_type": "markdown",
   "metadata": {},
   "source": [
    "**Test** <br>"
   ]
  },
  {
   "cell_type": "code",
   "execution_count": 34,
   "metadata": {
    "scrolled": true
   },
   "outputs": [
    {
     "data": {
      "text/plain": [
       "30 - 40    169558\n",
       "20 - 30    141469\n",
       "40 - 50     82252\n",
       "50 - 60     39323\n",
       "60 - 70      7902\n",
       "10 - 20      4242\n",
       "Name: member_age_groups, dtype: int64"
      ]
     },
     "execution_count": 34,
     "metadata": {},
     "output_type": "execute_result"
    }
   ],
   "source": [
    "df_bike.member_age_groups.value_counts() #majority of the age groups is between 30-40, followed by 20-30"
   ]
  },
  {
   "cell_type": "code",
   "execution_count": 35,
   "metadata": {},
   "outputs": [
    {
     "data": {
      "text/html": [
       "<div>\n",
       "<style scoped>\n",
       "    .dataframe tbody tr th:only-of-type {\n",
       "        vertical-align: middle;\n",
       "    }\n",
       "\n",
       "    .dataframe tbody tr th {\n",
       "        vertical-align: top;\n",
       "    }\n",
       "\n",
       "    .dataframe thead th {\n",
       "        text-align: right;\n",
       "    }\n",
       "</style>\n",
       "<table border=\"1\" class=\"dataframe\">\n",
       "  <thead>\n",
       "    <tr style=\"text-align: right;\">\n",
       "      <th></th>\n",
       "      <th>duration_min</th>\n",
       "      <th>start_time</th>\n",
       "      <th>end_time</th>\n",
       "      <th>start_station_id</th>\n",
       "      <th>start_station_name</th>\n",
       "      <th>start_station_latitude</th>\n",
       "      <th>start_station_longitude</th>\n",
       "      <th>end_station_id</th>\n",
       "      <th>end_station_name</th>\n",
       "      <th>end_station_latitude</th>\n",
       "      <th>end_station_longitude</th>\n",
       "      <th>bike_id</th>\n",
       "      <th>user_type</th>\n",
       "      <th>member_birth_year</th>\n",
       "      <th>member_gender</th>\n",
       "      <th>rider_age</th>\n",
       "      <th>member_age_groups</th>\n",
       "    </tr>\n",
       "  </thead>\n",
       "  <tbody>\n",
       "    <tr>\n",
       "      <th>12</th>\n",
       "      <td>36.383333</td>\n",
       "      <td>2017-12-31 23:52:55.5810</td>\n",
       "      <td>2018-01-01 00:29:18.7430</td>\n",
       "      <td>67</td>\n",
       "      <td>San Francisco Caltrain Station 2  (Townsend St...</td>\n",
       "      <td>37.776639</td>\n",
       "      <td>-122.395526</td>\n",
       "      <td>24</td>\n",
       "      <td>Spear St at Folsom St</td>\n",
       "      <td>37.789677</td>\n",
       "      <td>-122.390428</td>\n",
       "      <td>2311</td>\n",
       "      <td>Subscriber</td>\n",
       "      <td>1990.0</td>\n",
       "      <td>Male</td>\n",
       "      <td>27.0</td>\n",
       "      <td>20 - 30</td>\n",
       "    </tr>\n",
       "    <tr>\n",
       "      <th>13</th>\n",
       "      <td>36.166667</td>\n",
       "      <td>2017-12-31 23:52:55.9370</td>\n",
       "      <td>2018-01-01 00:29:06.9240</td>\n",
       "      <td>67</td>\n",
       "      <td>San Francisco Caltrain Station 2  (Townsend St...</td>\n",
       "      <td>37.776639</td>\n",
       "      <td>-122.395526</td>\n",
       "      <td>24</td>\n",
       "      <td>Spear St at Folsom St</td>\n",
       "      <td>37.789677</td>\n",
       "      <td>-122.390428</td>\n",
       "      <td>3717</td>\n",
       "      <td>Subscriber</td>\n",
       "      <td>1990.0</td>\n",
       "      <td>Male</td>\n",
       "      <td>27.0</td>\n",
       "      <td>20 - 30</td>\n",
       "    </tr>\n",
       "    <tr>\n",
       "      <th>15</th>\n",
       "      <td>25.733333</td>\n",
       "      <td>2017-12-31 23:53:38.9430</td>\n",
       "      <td>2018-01-01 00:19:23.0470</td>\n",
       "      <td>14</td>\n",
       "      <td>Clay St at Battery St</td>\n",
       "      <td>37.795001</td>\n",
       "      <td>-122.399970</td>\n",
       "      <td>27</td>\n",
       "      <td>Beale St at Harrison St</td>\n",
       "      <td>37.788059</td>\n",
       "      <td>-122.391865</td>\n",
       "      <td>558</td>\n",
       "      <td>Subscriber</td>\n",
       "      <td>1980.0</td>\n",
       "      <td>Female</td>\n",
       "      <td>37.0</td>\n",
       "      <td>30 - 40</td>\n",
       "    </tr>\n",
       "    <tr>\n",
       "      <th>16</th>\n",
       "      <td>24.566667</td>\n",
       "      <td>2017-12-31 23:54:40.1460</td>\n",
       "      <td>2018-01-01 00:19:14.3510</td>\n",
       "      <td>14</td>\n",
       "      <td>Clay St at Battery St</td>\n",
       "      <td>37.795001</td>\n",
       "      <td>-122.399970</td>\n",
       "      <td>27</td>\n",
       "      <td>Beale St at Harrison St</td>\n",
       "      <td>37.788059</td>\n",
       "      <td>-122.391865</td>\n",
       "      <td>3646</td>\n",
       "      <td>Subscriber</td>\n",
       "      <td>1979.0</td>\n",
       "      <td>Male</td>\n",
       "      <td>38.0</td>\n",
       "      <td>30 - 40</td>\n",
       "    </tr>\n",
       "    <tr>\n",
       "      <th>18</th>\n",
       "      <td>25.533333</td>\n",
       "      <td>2017-12-31 23:52:49.4970</td>\n",
       "      <td>2018-01-01 00:18:21.9530</td>\n",
       "      <td>78</td>\n",
       "      <td>Folsom St at 9th St</td>\n",
       "      <td>37.773717</td>\n",
       "      <td>-122.411647</td>\n",
       "      <td>15</td>\n",
       "      <td>San Francisco Ferry Building (Harry Bridges Pl...</td>\n",
       "      <td>37.795392</td>\n",
       "      <td>-122.394203</td>\n",
       "      <td>3114</td>\n",
       "      <td>Subscriber</td>\n",
       "      <td>1988.0</td>\n",
       "      <td>Other</td>\n",
       "      <td>29.0</td>\n",
       "      <td>20 - 30</td>\n",
       "    </tr>\n",
       "  </tbody>\n",
       "</table>\n",
       "</div>"
      ],
      "text/plain": [
       "    duration_min                start_time                  end_time  \\\n",
       "12     36.383333  2017-12-31 23:52:55.5810  2018-01-01 00:29:18.7430   \n",
       "13     36.166667  2017-12-31 23:52:55.9370  2018-01-01 00:29:06.9240   \n",
       "15     25.733333  2017-12-31 23:53:38.9430  2018-01-01 00:19:23.0470   \n",
       "16     24.566667  2017-12-31 23:54:40.1460  2018-01-01 00:19:14.3510   \n",
       "18     25.533333  2017-12-31 23:52:49.4970  2018-01-01 00:18:21.9530   \n",
       "\n",
       "    start_station_id                                 start_station_name  \\\n",
       "12                67  San Francisco Caltrain Station 2  (Townsend St...   \n",
       "13                67  San Francisco Caltrain Station 2  (Townsend St...   \n",
       "15                14                              Clay St at Battery St   \n",
       "16                14                              Clay St at Battery St   \n",
       "18                78                                Folsom St at 9th St   \n",
       "\n",
       "    start_station_latitude  start_station_longitude  end_station_id  \\\n",
       "12               37.776639              -122.395526              24   \n",
       "13               37.776639              -122.395526              24   \n",
       "15               37.795001              -122.399970              27   \n",
       "16               37.795001              -122.399970              27   \n",
       "18               37.773717              -122.411647              15   \n",
       "\n",
       "                                     end_station_name  end_station_latitude  \\\n",
       "12                              Spear St at Folsom St             37.789677   \n",
       "13                              Spear St at Folsom St             37.789677   \n",
       "15                            Beale St at Harrison St             37.788059   \n",
       "16                            Beale St at Harrison St             37.788059   \n",
       "18  San Francisco Ferry Building (Harry Bridges Pl...             37.795392   \n",
       "\n",
       "    end_station_longitude  bike_id   user_type  member_birth_year  \\\n",
       "12            -122.390428     2311  Subscriber             1990.0   \n",
       "13            -122.390428     3717  Subscriber             1990.0   \n",
       "15            -122.391865      558  Subscriber             1980.0   \n",
       "16            -122.391865     3646  Subscriber             1979.0   \n",
       "18            -122.394203     3114  Subscriber             1988.0   \n",
       "\n",
       "   member_gender  rider_age member_age_groups  \n",
       "12          Male       27.0           20 - 30  \n",
       "13          Male       27.0           20 - 30  \n",
       "15        Female       37.0           30 - 40  \n",
       "16          Male       38.0           30 - 40  \n",
       "18         Other       29.0           20 - 30  "
      ]
     },
     "execution_count": 35,
     "metadata": {},
     "output_type": "execute_result"
    }
   ],
   "source": [
    "df_bike.head(5) #verifying"
   ]
  },
  {
   "cell_type": "markdown",
   "metadata": {},
   "source": [
    "**Define** <br>\n",
    "start_time and end_time need to be converted to datetime so we can extract information from data such as week, day, month"
   ]
  },
  {
   "cell_type": "markdown",
   "metadata": {},
   "source": [
    "**Code**"
   ]
  },
  {
   "cell_type": "code",
   "execution_count": 36,
   "metadata": {},
   "outputs": [
    {
     "data": {
      "text/plain": [
       "12    2017-12-31 23:52:55.5810\n",
       "13    2017-12-31 23:52:55.9370\n",
       "15    2017-12-31 23:53:38.9430\n",
       "16    2017-12-31 23:54:40.1460\n",
       "18    2017-12-31 23:52:49.4970\n",
       "Name: start_time, dtype: object"
      ]
     },
     "execution_count": 36,
     "metadata": {},
     "output_type": "execute_result"
    }
   ],
   "source": [
    "df_bike.start_time.head() #we need to convert this string column to date type so we can isolate individual information"
   ]
  },
  {
   "cell_type": "code",
   "execution_count": 37,
   "metadata": {},
   "outputs": [],
   "source": [
    "#Converting str to date type\n",
    "df_bike['start_time']= pd.to_datetime(df_bike['start_time'])\n",
    "df_bike['end_time'] = pd.to_datetime(df_bike['end_time'])"
   ]
  },
  {
   "cell_type": "markdown",
   "metadata": {},
   "source": [
    "Seperating Hours"
   ]
  },
  {
   "cell_type": "code",
   "execution_count": 38,
   "metadata": {},
   "outputs": [],
   "source": [
    "df_bike['start_hour']=df_bike['start_time'].dt.hour"
   ]
  },
  {
   "cell_type": "markdown",
   "metadata": {},
   "source": [
    "Creating \"Date\" column"
   ]
  },
  {
   "cell_type": "code",
   "execution_count": 39,
   "metadata": {},
   "outputs": [],
   "source": [
    "df_bike['start_date']=df_bike['start_time'].dt.day"
   ]
  },
  {
   "cell_type": "markdown",
   "metadata": {},
   "source": [
    "Creating a column for the day of week"
   ]
  },
  {
   "cell_type": "code",
   "execution_count": 40,
   "metadata": {},
   "outputs": [],
   "source": [
    "df_bike['start_day']=df_bike['start_time'].dt.strftime('%A')"
   ]
  },
  {
   "cell_type": "markdown",
   "metadata": {},
   "source": [
    "Extracting \"Month\" information"
   ]
  },
  {
   "cell_type": "code",
   "execution_count": 41,
   "metadata": {},
   "outputs": [],
   "source": [
    "df_bike['start_month']=df_bike['start_time'].dt.strftime('%b')"
   ]
  },
  {
   "cell_type": "markdown",
   "metadata": {},
   "source": [
    "References: <br>\n",
    "> https://www.geeksforgeeks.org/python-pandas-series-dt-strftime/ <br>\n",
    "> http://strftime.org/"
   ]
  },
  {
   "cell_type": "markdown",
   "metadata": {},
   "source": [
    "**Test**"
   ]
  },
  {
   "cell_type": "code",
   "execution_count": 42,
   "metadata": {
    "scrolled": false
   },
   "outputs": [
    {
     "name": "stdout",
     "output_type": "stream",
     "text": [
      "Index(['duration_min', 'start_time', 'end_time', 'start_station_id',\n",
      "       'start_station_name', 'start_station_latitude',\n",
      "       'start_station_longitude', 'end_station_id', 'end_station_name',\n",
      "       'end_station_latitude', 'end_station_longitude', 'bike_id', 'user_type',\n",
      "       'member_birth_year', 'member_gender', 'rider_age', 'member_age_groups',\n",
      "       'start_hour', 'start_date', 'start_day', 'start_month'],\n",
      "      dtype='object')\n"
     ]
    },
    {
     "data": {
      "text/html": [
       "<div>\n",
       "<style scoped>\n",
       "    .dataframe tbody tr th:only-of-type {\n",
       "        vertical-align: middle;\n",
       "    }\n",
       "\n",
       "    .dataframe tbody tr th {\n",
       "        vertical-align: top;\n",
       "    }\n",
       "\n",
       "    .dataframe thead th {\n",
       "        text-align: right;\n",
       "    }\n",
       "</style>\n",
       "<table border=\"1\" class=\"dataframe\">\n",
       "  <thead>\n",
       "    <tr style=\"text-align: right;\">\n",
       "      <th></th>\n",
       "      <th>duration_min</th>\n",
       "      <th>start_time</th>\n",
       "      <th>end_time</th>\n",
       "      <th>start_station_id</th>\n",
       "      <th>start_station_name</th>\n",
       "      <th>start_station_latitude</th>\n",
       "      <th>start_station_longitude</th>\n",
       "      <th>end_station_id</th>\n",
       "      <th>end_station_name</th>\n",
       "      <th>end_station_latitude</th>\n",
       "      <th>...</th>\n",
       "      <th>bike_id</th>\n",
       "      <th>user_type</th>\n",
       "      <th>member_birth_year</th>\n",
       "      <th>member_gender</th>\n",
       "      <th>rider_age</th>\n",
       "      <th>member_age_groups</th>\n",
       "      <th>start_hour</th>\n",
       "      <th>start_date</th>\n",
       "      <th>start_day</th>\n",
       "      <th>start_month</th>\n",
       "    </tr>\n",
       "  </thead>\n",
       "  <tbody>\n",
       "    <tr>\n",
       "      <th>12</th>\n",
       "      <td>36.383333</td>\n",
       "      <td>2017-12-31 23:52:55.581</td>\n",
       "      <td>2018-01-01 00:29:18.743</td>\n",
       "      <td>67</td>\n",
       "      <td>San Francisco Caltrain Station 2  (Townsend St...</td>\n",
       "      <td>37.776639</td>\n",
       "      <td>-122.395526</td>\n",
       "      <td>24</td>\n",
       "      <td>Spear St at Folsom St</td>\n",
       "      <td>37.789677</td>\n",
       "      <td>...</td>\n",
       "      <td>2311</td>\n",
       "      <td>Subscriber</td>\n",
       "      <td>1990.0</td>\n",
       "      <td>Male</td>\n",
       "      <td>27.0</td>\n",
       "      <td>20 - 30</td>\n",
       "      <td>23</td>\n",
       "      <td>31</td>\n",
       "      <td>Sunday</td>\n",
       "      <td>Dec</td>\n",
       "    </tr>\n",
       "    <tr>\n",
       "      <th>13</th>\n",
       "      <td>36.166667</td>\n",
       "      <td>2017-12-31 23:52:55.937</td>\n",
       "      <td>2018-01-01 00:29:06.924</td>\n",
       "      <td>67</td>\n",
       "      <td>San Francisco Caltrain Station 2  (Townsend St...</td>\n",
       "      <td>37.776639</td>\n",
       "      <td>-122.395526</td>\n",
       "      <td>24</td>\n",
       "      <td>Spear St at Folsom St</td>\n",
       "      <td>37.789677</td>\n",
       "      <td>...</td>\n",
       "      <td>3717</td>\n",
       "      <td>Subscriber</td>\n",
       "      <td>1990.0</td>\n",
       "      <td>Male</td>\n",
       "      <td>27.0</td>\n",
       "      <td>20 - 30</td>\n",
       "      <td>23</td>\n",
       "      <td>31</td>\n",
       "      <td>Sunday</td>\n",
       "      <td>Dec</td>\n",
       "    </tr>\n",
       "    <tr>\n",
       "      <th>15</th>\n",
       "      <td>25.733333</td>\n",
       "      <td>2017-12-31 23:53:38.943</td>\n",
       "      <td>2018-01-01 00:19:23.047</td>\n",
       "      <td>14</td>\n",
       "      <td>Clay St at Battery St</td>\n",
       "      <td>37.795001</td>\n",
       "      <td>-122.399970</td>\n",
       "      <td>27</td>\n",
       "      <td>Beale St at Harrison St</td>\n",
       "      <td>37.788059</td>\n",
       "      <td>...</td>\n",
       "      <td>558</td>\n",
       "      <td>Subscriber</td>\n",
       "      <td>1980.0</td>\n",
       "      <td>Female</td>\n",
       "      <td>37.0</td>\n",
       "      <td>30 - 40</td>\n",
       "      <td>23</td>\n",
       "      <td>31</td>\n",
       "      <td>Sunday</td>\n",
       "      <td>Dec</td>\n",
       "    </tr>\n",
       "    <tr>\n",
       "      <th>16</th>\n",
       "      <td>24.566667</td>\n",
       "      <td>2017-12-31 23:54:40.146</td>\n",
       "      <td>2018-01-01 00:19:14.351</td>\n",
       "      <td>14</td>\n",
       "      <td>Clay St at Battery St</td>\n",
       "      <td>37.795001</td>\n",
       "      <td>-122.399970</td>\n",
       "      <td>27</td>\n",
       "      <td>Beale St at Harrison St</td>\n",
       "      <td>37.788059</td>\n",
       "      <td>...</td>\n",
       "      <td>3646</td>\n",
       "      <td>Subscriber</td>\n",
       "      <td>1979.0</td>\n",
       "      <td>Male</td>\n",
       "      <td>38.0</td>\n",
       "      <td>30 - 40</td>\n",
       "      <td>23</td>\n",
       "      <td>31</td>\n",
       "      <td>Sunday</td>\n",
       "      <td>Dec</td>\n",
       "    </tr>\n",
       "    <tr>\n",
       "      <th>18</th>\n",
       "      <td>25.533333</td>\n",
       "      <td>2017-12-31 23:52:49.497</td>\n",
       "      <td>2018-01-01 00:18:21.953</td>\n",
       "      <td>78</td>\n",
       "      <td>Folsom St at 9th St</td>\n",
       "      <td>37.773717</td>\n",
       "      <td>-122.411647</td>\n",
       "      <td>15</td>\n",
       "      <td>San Francisco Ferry Building (Harry Bridges Pl...</td>\n",
       "      <td>37.795392</td>\n",
       "      <td>...</td>\n",
       "      <td>3114</td>\n",
       "      <td>Subscriber</td>\n",
       "      <td>1988.0</td>\n",
       "      <td>Other</td>\n",
       "      <td>29.0</td>\n",
       "      <td>20 - 30</td>\n",
       "      <td>23</td>\n",
       "      <td>31</td>\n",
       "      <td>Sunday</td>\n",
       "      <td>Dec</td>\n",
       "    </tr>\n",
       "  </tbody>\n",
       "</table>\n",
       "<p>5 rows × 21 columns</p>\n",
       "</div>"
      ],
      "text/plain": [
       "    duration_min              start_time                end_time  \\\n",
       "12     36.383333 2017-12-31 23:52:55.581 2018-01-01 00:29:18.743   \n",
       "13     36.166667 2017-12-31 23:52:55.937 2018-01-01 00:29:06.924   \n",
       "15     25.733333 2017-12-31 23:53:38.943 2018-01-01 00:19:23.047   \n",
       "16     24.566667 2017-12-31 23:54:40.146 2018-01-01 00:19:14.351   \n",
       "18     25.533333 2017-12-31 23:52:49.497 2018-01-01 00:18:21.953   \n",
       "\n",
       "    start_station_id                                 start_station_name  \\\n",
       "12                67  San Francisco Caltrain Station 2  (Townsend St...   \n",
       "13                67  San Francisco Caltrain Station 2  (Townsend St...   \n",
       "15                14                              Clay St at Battery St   \n",
       "16                14                              Clay St at Battery St   \n",
       "18                78                                Folsom St at 9th St   \n",
       "\n",
       "    start_station_latitude  start_station_longitude  end_station_id  \\\n",
       "12               37.776639              -122.395526              24   \n",
       "13               37.776639              -122.395526              24   \n",
       "15               37.795001              -122.399970              27   \n",
       "16               37.795001              -122.399970              27   \n",
       "18               37.773717              -122.411647              15   \n",
       "\n",
       "                                     end_station_name  end_station_latitude  \\\n",
       "12                              Spear St at Folsom St             37.789677   \n",
       "13                              Spear St at Folsom St             37.789677   \n",
       "15                            Beale St at Harrison St             37.788059   \n",
       "16                            Beale St at Harrison St             37.788059   \n",
       "18  San Francisco Ferry Building (Harry Bridges Pl...             37.795392   \n",
       "\n",
       "    ...  bike_id   user_type member_birth_year  member_gender rider_age  \\\n",
       "12  ...     2311  Subscriber            1990.0           Male      27.0   \n",
       "13  ...     3717  Subscriber            1990.0           Male      27.0   \n",
       "15  ...      558  Subscriber            1980.0         Female      37.0   \n",
       "16  ...     3646  Subscriber            1979.0           Male      38.0   \n",
       "18  ...     3114  Subscriber            1988.0          Other      29.0   \n",
       "\n",
       "    member_age_groups start_hour  start_date  start_day start_month  \n",
       "12            20 - 30         23          31     Sunday         Dec  \n",
       "13            20 - 30         23          31     Sunday         Dec  \n",
       "15            30 - 40         23          31     Sunday         Dec  \n",
       "16            30 - 40         23          31     Sunday         Dec  \n",
       "18            20 - 30         23          31     Sunday         Dec  \n",
       "\n",
       "[5 rows x 21 columns]"
      ]
     },
     "execution_count": 42,
     "metadata": {},
     "output_type": "execute_result"
    }
   ],
   "source": [
    "print(df_bike.columns); df_bike.head()"
   ]
  },
  {
   "cell_type": "markdown",
   "metadata": {},
   "source": [
    "**Define** <br>\n",
    "Changing data types for data"
   ]
  },
  {
   "cell_type": "markdown",
   "metadata": {},
   "source": [
    "**Code**"
   ]
  },
  {
   "cell_type": "code",
   "execution_count": 43,
   "metadata": {},
   "outputs": [],
   "source": [
    "#changing ages to int dtype\n",
    "df_bike['rider_age'] = df_bike['rider_age'].astype('int') #converting to int\n",
    "df_bike['member_birth_year'] = df_bike['member_birth_year'].astype('int')"
   ]
  },
  {
   "cell_type": "code",
   "execution_count": 44,
   "metadata": {},
   "outputs": [],
   "source": [
    "#changing to category dtype\n",
    "df_bike['user_type'] = df_bike['user_type'].astype('category')\n",
    "df_bike['member_gender']= df_bike['member_gender'].astype('category')\n",
    "df_bike['member_age_groups'] = df_bike['member_age_groups'].astype('category')"
   ]
  },
  {
   "cell_type": "code",
   "execution_count": 45,
   "metadata": {},
   "outputs": [],
   "source": [
    "# setting id's to string variable\n",
    "df_bike['bike_id'] = df_bike['bike_id'].astype(str)\n",
    "df_bike['start_station_id'] = df_bike['start_station_id'].astype(str)\n",
    "df_bike['end_station_id'] = df_bike['end_station_id'].astype(str)\n"
   ]
  },
  {
   "cell_type": "markdown",
   "metadata": {},
   "source": [
    "**Test**"
   ]
  },
  {
   "cell_type": "code",
   "execution_count": 46,
   "metadata": {},
   "outputs": [
    {
     "name": "stdout",
     "output_type": "stream",
     "text": [
      "(444746, 21)\n",
      "duration_min                      float64\n",
      "start_time                 datetime64[ns]\n",
      "end_time                   datetime64[ns]\n",
      "start_station_id                   object\n",
      "start_station_name                 object\n",
      "start_station_latitude            float64\n",
      "start_station_longitude           float64\n",
      "end_station_id                     object\n",
      "end_station_name                   object\n",
      "end_station_latitude              float64\n",
      "end_station_longitude             float64\n",
      "bike_id                            object\n",
      "user_type                        category\n",
      "member_birth_year                   int32\n",
      "member_gender                    category\n",
      "rider_age                           int32\n",
      "member_age_groups                category\n",
      "start_hour                          int64\n",
      "start_date                          int64\n",
      "start_day                          object\n",
      "start_month                        object\n",
      "dtype: object\n"
     ]
    }
   ],
   "source": [
    "print(df_bike.shape); \n",
    "print(df_bike.dtypes); #dtypes changes have been made"
   ]
  },
  {
   "cell_type": "markdown",
   "metadata": {},
   "source": [
    "#### Exporting Clean CSV"
   ]
  },
  {
   "cell_type": "code",
   "execution_count": 47,
   "metadata": {},
   "outputs": [],
   "source": [
    "# save cleaned data \n",
    "df_bike.to_csv('FordGoBike_Clean.csv', index=False)"
   ]
  },
  {
   "cell_type": "markdown",
   "metadata": {},
   "source": [
    "### What is the structure of your dataset?\n",
    "\n",
    "> The dataset contains close to 500,000 data points with original 15 columns:<br><br>\n",
    ">('duration_sec', 'start_time', 'end_time', 'start_station_id', 'start_station_name', 'start_station_latitude','start_station_longitude', 'end_station_id', 'end_station_name','end_station_latitude', 'end_station_longitude', 'bike_id', 'user_type','member_birth_year','member_gender')<br><br>\n",
    "> additional 5 columns have been added to dataframe by extracting information from the time column, and for easier view of data the members_birth_year has been transformed to show just the members age. <br><br>\n",
    "new columns added: ('rider_age', 'member_age_groups','start_hour', 'start_date', 'start_day', 'start_month').<br><br>\n",
    "> **Categorical variables present:** ('user_type', 'member_gender')<br>\n",
    "> **Time variables present:** ('start_hour', 'start_date', 'start_day', 'start_month', 'duration_min', 'start_time', 'end_time')\n",
    "\n",
    "\n",
    "### What is/are the main feature(s) of interest in your dataset?\n",
    "\n",
    "> In this dataset, I would like to determine which group of riders are likely to have the longest rentals and I am also intrigued to find out what seasons or timeperiod these riders are most active in San Francisco and Bay Area.\n",
    "\n",
    "### What features in the dataset do you think will help support your investigation into your feature(s) of interest?\n",
    "\n",
    "> To support my investigation I would need to investigate further into the specificities of the group of riders, the set variables I will be looking at are gender, customer type, age ranges with duration as the independent variable. For the seasons or timeperiod riders are most active, an univaritive count plot would suffice."
   ]
  },
  {
   "cell_type": "markdown",
   "metadata": {},
   "source": [
    "## Univariate Exploration\n",
    "\n",
    "> In this section, I will be dealing with the time variables to determine the distribution of data for days of week, months, hour of day and age ranges of data."
   ]
  },
  {
   "cell_type": "markdown",
   "metadata": {},
   "source": [
    "The main variable of interest is Duration as it is an impeding factor to determine which groups are likely to have longest rentals"
   ]
  },
  {
   "cell_type": "code",
   "execution_count": 48,
   "metadata": {},
   "outputs": [
    {
     "data": {
      "image/png": "[encoded data removed]",
      "text/plain": [
       "<Figure size 864x576 with 1 Axes>"
      ]
     },
     "metadata": {},
     "output_type": "display_data"
    }
   ],
   "source": [
    "bin_edges = np.arange(0, 76,0.8)\n",
    "plt.figure(figsize=(12,8))\n",
    "plt.hist(data = df_bike, x = 'duration_min', bins = bin_edges)\n",
    "\n",
    "plt.title(\"Duration count - mins\", y=1.03, fontsize=12)\n",
    "plt.xlabel(\"Duration (mins)\")\n",
    "plt.ylabel('Count of duration');"
   ]
  },
  {
   "cell_type": "markdown",
   "metadata": {},
   "source": [
    "Graph is skewed to the right, we did remove outliers prior but for the 1 percentile so graph is yet skewed. However data is not drastically different anymore"
   ]
  },
  {
   "cell_type": "code",
   "execution_count": 51,
   "metadata": {
    "scrolled": false
   },
   "outputs": [
    {
     "data": {
      "image/png": "[encoded data removed]",
      "text/plain": [
       "<Figure size 720x720 with 4 Axes>"
      ]
     },
     "metadata": {},
     "output_type": "display_data"
    }
   ],
   "source": [
    "#all four variables to assess distribution\n",
    "fig, ax = plt.subplots(nrows=4, figsize = [10,10])\n",
    "\n",
    "default_color = sns.color_palette()[0]\n",
    "sns.countplot(data = df_bike, x = 'start_month', color = default_color, ax = ax[0])\n",
    "sns.countplot(data = df_bike, x = 'start_hour', color = default_color, ax = ax[1])\n",
    "sns.countplot(data = df_bike, x = 'start_day', color = default_color, ax = ax[2])\n",
    "sns.countplot(data = df_bike, x = 'member_age_groups', color = default_color, ax = ax[3])\n",
    "\n",
    "plt.show()"
   ]
  },
  {
   "cell_type": "markdown",
   "metadata": {},
   "source": [
    "From the graph above, looks like the 'start_hour' column has an outlier towards the left side of data; lets take a look at this and see if it should be filtered out. "
   ]
  },
  {
   "cell_type": "code",
   "execution_count": 52,
   "metadata": {},
   "outputs": [
    {
     "data": {
      "image/png": "[encoded data removed]",
      "text/plain": [
       "<Figure size 864x360 with 1 Axes>"
      ]
     },
     "metadata": {},
     "output_type": "display_data"
    }
   ],
   "source": [
    "binsize = 1\n",
    "bins = np.arange(-1, df_bike['start_hour'].max()+binsize, binsize)\n",
    "\n",
    "plt.figure(figsize=[12, 5])\n",
    "plt.hist(data = df_bike, x = 'start_hour', color = 'purple', bins=bins)\n",
    "plt.xlabel(\"Hours of day - 24hrs\", fontsize=13)\n",
    "plt.ylabel(\"Count of Rentals\", fontsize=13)\n",
    "plt.title(\"count of rentals vs the time of day\", fontsize=15)\n",
    "plt.xticks(range(24))\n",
    "\n",
    "plt.show()"
   ]
  },
  {
   "cell_type": "markdown",
   "metadata": {},
   "source": [
    "The graph seems to follow a bimodal pattern with a surge at 8am and another surge around 5pm. These seem to be the busiest times of the day for rentals. Although there seems to be an outlier, we will keep this data as its an hour of day information and will affect the data if removed. lets look at the weekly distriubtion of bike rentals."
   ]
  },
  {
   "cell_type": "code",
   "execution_count": 53,
   "metadata": {
    "scrolled": false
   },
   "outputs": [
    {
     "data": {
      "image/png": "[encoded data removed]",
      "text/plain": [
       "<Figure size 864x432 with 1 Axes>"
      ]
     },
     "metadata": {},
     "output_type": "display_data"
    }
   ],
   "source": [
    "#Count of bike rentals from June to Dec, 2017\n",
    "sns.set(font_scale=1)\n",
    "weekday = ['Monday', 'Tuesday', 'Wednesday', 'Thursday', 'Friday', 'Saturday', 'Sunday']\n",
    "\n",
    "g = sns.catplot(data=df_bike, x='start_day', kind='count', palette=\"Paired\", order=weekday, height=6, aspect=2)\n",
    "\n",
    "g.set_axis_labels(\"Days of the week\", \"Count of Rentals\")\n",
    "g.fig.suptitle('Usage of bikes for days of the week', y=1.02, fontsize=14);"
   ]
  },
  {
   "cell_type": "markdown",
   "metadata": {},
   "source": [
    "It appears that Tuesday is the busiest day for rentals followed by Wednesday and Thursday. Considering that these are weekdays, it may suggest that users are using the bikes for commuting in the city, most likely for work as the rental peaks are around 8am and 5pm. Further information is needed, lets take a look at the monthly distrubition of usage. "
   ]
  },
  {
   "cell_type": "code",
   "execution_count": 54,
   "metadata": {
    "scrolled": false
   },
   "outputs": [
    {
     "data": {
      "image/png": "[encoded data removed]",
      "text/plain": [
       "<Figure size 864x432 with 1 Axes>"
      ]
     },
     "metadata": {},
     "output_type": "display_data"
    }
   ],
   "source": [
    "#Count of bike rentals from June to Dec, 2017\n",
    "sns.set(font_scale=1)\n",
    "months = ['Jun', 'Jul', 'Aug', 'Sep', 'Oct', 'Nov', 'Dec']\n",
    "g = sns.catplot(data=df_bike, x='start_month', kind='count', palette=\"Set1\", order=months, height=6, aspect=2)\n",
    "\n",
    "g.set_axis_labels(\"Months\", \"Count of Rentals\")\n",
    "g.fig.suptitle('Monthly usage count for FordGoBikes', y=1.02, fontsize=14);"
   ]
  },
  {
   "cell_type": "markdown",
   "metadata": {},
   "source": [
    "October has the highest rental rate followed by November; Bike rentals are not run during the winter season for obvious reasons, but it is interesting to see that July and August did not have a staggering count in comparison to October and November."
   ]
  },
  {
   "cell_type": "code",
   "execution_count": 55,
   "metadata": {},
   "outputs": [
    {
     "name": "stdout",
     "output_type": "stream",
     "text": [
      "                   bike_id\n",
      "member_age_groups         \n",
      "10 - 20               4242\n",
      "20 - 30             141469\n",
      "30 - 40             169558\n",
      "40 - 50              82252\n",
      "50 - 60              39323\n"
     ]
    }
   ],
   "source": [
    "new_df = df_bike.groupby('member_age_groups').agg({'bike_id':'count'}) \n",
    "#aggregating the groups by bike id so we can graph the data\n",
    "print(new_df.head())"
   ]
  },
  {
   "cell_type": "code",
   "execution_count": 56,
   "metadata": {
    "scrolled": false
   },
   "outputs": [
    {
     "data": {
      "image/png": "[encoded data removed]",
      "text/plain": [
       "<Figure size 936x432 with 1 Axes>"
      ]
     },
     "metadata": {},
     "output_type": "display_data"
    }
   ],
   "source": [
    "plotG = new_df.plot.barh(fontsize = 13)\n",
    "\n",
    "#title and axis labelling\n",
    "plotG.set(title = 'Age groups and their rental counts')\n",
    "plotG.set_xlabel('Count of rentals', fontsize = '13')\n",
    "plotG.set_ylabel('Age Groups',  fontsize = '13')\n",
    "\n",
    "pltG_label= ['Age groups']\n",
    "plt.legend(pltG_label, loc='lower right')\n",
    "\n",
    "#adjusting plot size\n",
    "plotG.figure.set_size_inches(13, 6)\n",
    "\n",
    "plt.show()"
   ]
  },
  {
   "cell_type": "markdown",
   "metadata": {},
   "source": [
    "Ages 30-40 have the highest count of age groups that are active and rent the bikes, followed by the 20-30 year olds. Interesting to see that the teenagers are of the lowest group, lower than the 60-70 group too."
   ]
  },
  {
   "cell_type": "code",
   "execution_count": 57,
   "metadata": {},
   "outputs": [
    {
     "data": {
      "text/plain": [
       "count    444746.000000\n",
       "mean         11.068367\n",
       "std           7.711593\n",
       "min           1.016667\n",
       "25%           6.050000\n",
       "50%           9.200000\n",
       "75%          13.783333\n",
       "max          75.000000\n",
       "Name: duration_min, dtype: float64"
      ]
     },
     "execution_count": 57,
     "metadata": {},
     "output_type": "execute_result"
    }
   ],
   "source": [
    "df_bike.duration_min.describe()"
   ]
  },
  {
   "cell_type": "markdown",
   "metadata": {},
   "source": [
    "### Discuss the distribution(s) of your variable(s) of interest. Were there any unusual points? Did you need to perform any transformations?\n",
    "\n",
    "> Variable of interest had extreme outliers that distorted the data, it had a maximum duration close to 24 hours! while the mean was only 11 minutes long. This dataset was cleaned and removed with help of percentiles that accurately identified majority of data. Other interesting points noted were of age groups, it seems that the younger age groups are less active than the older. No transformation was needed however it was an interesting insight. Also, it appears that the time of the day that rentals are most taken are inlined with work times, and fall on weekdays. This information aligns with older age groups being the ones using this service. \n",
    "\n",
    "### Of the features you investigated, were there any unusual distributions? Did you perform any operations on the data to tidy, adjust, or change the form of the data? If so, why did you do this?\n",
    "\n",
    "> The birth years for some of the candidates were unrealistic, such as the members who were above 90 years of age. However, this outlier issue has been rectified by the use of percentiles and dropping this information. Dropping outliers provides an accurate depiction of dataset."
   ]
  },
  {
   "cell_type": "markdown",
   "metadata": {},
   "source": [
    "## Bivariate Exploration\n",
    "\n",
    "> We will be conducting pairwise explorations for the variables presented above, this process will help narrow our search and answer necessary questions"
   ]
  },
  {
   "cell_type": "markdown",
   "metadata": {},
   "source": [
    "Briefly summarizing the correlations for the numerical datasets"
   ]
  },
  {
   "cell_type": "code",
   "execution_count": 58,
   "metadata": {},
   "outputs": [],
   "source": [
    "numeric_vars = ['rider_age', 'duration_min','start_hour'] #numeric data of interest\n",
    "category_vars = ['member_age_groups', 'start_month', 'start_day']"
   ]
  },
  {
   "cell_type": "code",
   "execution_count": 60,
   "metadata": {},
   "outputs": [
    {
     "data": {
      "image/png": "[encoded data removed]",
      "text/plain": [
       "<Figure size 576x360 with 2 Axes>"
      ]
     },
     "metadata": {},
     "output_type": "display_data"
    }
   ],
   "source": [
    "# correlation plot\n",
    "plt.figure(figsize = [8, 5])\n",
    "sns.heatmap(df_bike[numeric_vars].corr(), annot = True, fmt = '.3f',\n",
    "           cmap = 'vlag_r', center = 0)\n",
    "plt.show()"
   ]
  },
  {
   "cell_type": "markdown",
   "metadata": {},
   "source": [
    "From the graph above, there seems to be no correlation between the numerical variables of interest; now we need to check if the numerical variables might be of correlation with the category variables"
   ]
  },
  {
   "cell_type": "code",
   "execution_count": 62,
   "metadata": {
    "scrolled": false
   },
   "outputs": [
    {
     "data": {
      "text/plain": [
       "<Figure size 720x576 with 0 Axes>"
      ]
     },
     "metadata": {},
     "output_type": "display_data"
    },
    {
     "data": {
      "image/png": "[encoded data removed]",
      "text/plain": [
       "<Figure size 1620x1080 with 9 Axes>"
      ]
     },
     "metadata": {},
     "output_type": "display_data"
    }
   ],
   "source": [
    "samples = np.random.choice(df_bike.shape[0], 100, replace = False)\n",
    "data_samp = df_bike.loc[samples,:]\n",
    "\n",
    "\n",
    "\n",
    "def boxplt(x, y, **kwargs):\n",
    "    default_color = sns.color_palette()[1]\n",
    "    sns.boxplot(x, y, color = default_color)\n",
    "\n",
    "plt.figure(figsize = [10, 8])\n",
    "sns.set(font_scale=1.5)\n",
    "g = sns.PairGrid(data = data_samp, y_vars = ['rider_age', 'duration_min', 'start_hour'], x_vars = category_vars,\n",
    "                height = 5, aspect = 1.5)\n",
    "g.map(boxplt)\n",
    "plt.show();"
   ]
  },
  {
   "cell_type": "markdown",
   "metadata": {},
   "source": [
    "From the pairwise comparison above using the boxplots, we can notice couple relationships: <br><br>\n",
    "**start_day**\n",
    "> - Mondays are the most verstalise with age ranges, followed by saturday<br>\n",
    "> - Sundays appear to have the greatest duration of bike rentals, data is what we may expect for a weekend <br>\n",
    "> - Start hours of rentals are very versatile with the days of the week, but weekends are generally later started than weekdays. Strange how Thursdays have a narrow starting time. <br>\n",
    "\n",
    "**start_month**\n",
    "> - November has the most diverse age group, which makes sense as November is the second busiest of the months and more rentals are being used<br>\n",
    "> - Although November is not the busiest it does have the greatest duration of rentals, this can indicate to us that diversified age groups and duration have a certain correlation<br>\n",
    "> - No correlation or patterns to be found between months of rental and start of bike rental<br>\n",
    "\n",
    "\n",
    "**Member_age_groups**\n",
    "> - age groups of 10-20 and 60-70 are very minimal that plots for 10-20 are not even visible <br>\n",
    "> - Interestingly, it appears that age groups 60-70 rent the bike for the longest time, compared to the other groups<br>\n"
   ]
  },
  {
   "cell_type": "markdown",
   "metadata": {},
   "source": [
    "Introducing other categorical variables that can pertain to our question"
   ]
  },
  {
   "cell_type": "code",
   "execution_count": 63,
   "metadata": {},
   "outputs": [],
   "source": [
    "category_vars1= ['user_type', 'member_gender'] \n",
    "#category type interest with variables we previously utilized; split categories so the plot can be visualized better"
   ]
  },
  {
   "cell_type": "code",
   "execution_count": 65,
   "metadata": {
    "scrolled": false
   },
   "outputs": [
    {
     "data": {
      "text/plain": [
       "<Figure size 720x576 with 0 Axes>"
      ]
     },
     "metadata": {},
     "output_type": "display_data"
    },
    {
     "data": {
      "image/png": "[encoded data removed]",
      "text/plain": [
       "<Figure size 2160x1080 with 6 Axes>"
      ]
     },
     "metadata": {},
     "output_type": "display_data"
    }
   ],
   "source": [
    "samples = np.random.choice(df_bike.shape[0], 100, replace = False)\n",
    "data_samp = df_bike.loc[samples,:]\n",
    "\n",
    "def boxplt(x, y, **kwargs):\n",
    "    default_color = sns.color_palette()[1]\n",
    "    sns.boxplot(x, y, color = default_color)\n",
    "\n",
    "plt.figure(figsize = [10, 8])\n",
    "g = sns.PairGrid(data = data_samp, y_vars = ['rider_age', 'duration_min', 'start_hour'], x_vars = category_vars1,\n",
    "                height = 5, aspect = 3)\n",
    "g.map(boxplt)\n",
    "plt.show();"
   ]
  },
  {
   "cell_type": "markdown",
   "metadata": {},
   "source": [
    "From the pairwise comparison above using the boxplots, we can notice couple relationships: <br><br>\n",
    "**User_type**\n",
    "> - Subscribers are older in age, while customers are tentatively younger but some are also older;<br>\n",
    "> - Customers have rented the bikes for a longer period, while subscribers not as much; <br>\n",
    "> - Customers are renting the bikes at a later point during day while subscribers have a broader range. This may be because subscribers may use the ride for commuting and are regular in usage. Which can also explain lower duration time. <br>\n",
    "\n",
    "**Member_gender**\n",
    "> - Gender 'other' is not impacting the datasets as much, due to lower count<br>\n",
    "> - Females are starting bike rentals at an earlier time and are using the rentals for longer durations<br>\n",
    "> - Age factors are much similar between both genders, where some outliers exist but most settle between 25-40<br>"
   ]
  },
  {
   "cell_type": "markdown",
   "metadata": {},
   "source": [
    "Lets use the variable of interest to figure out which group of bikers have the longer rental duration"
   ]
  },
  {
   "cell_type": "code",
   "execution_count": 66,
   "metadata": {},
   "outputs": [
    {
     "data": {
      "text/plain": [
       "Text(0.5, 0, 'Duration in mins')"
      ]
     },
     "execution_count": 66,
     "metadata": {},
     "output_type": "execute_result"
    },
    {
     "data": {
      "image/png": "[encoded data removed]",
      "text/plain": [
       "<Figure size 936x504 with 1 Axes>"
      ]
     },
     "metadata": {},
     "output_type": "display_data"
    }
   ],
   "source": [
    "#plottingg user_type against duration \n",
    "new_color=['green', 'blue']\n",
    "ax = df_bike.groupby('user_type')['duration_min'].mean().plot(kind='barh', color=new_color, figsize=(13,7))\n",
    "\n",
    "ax.set_title('Average trip duration per user type', fontsize=20, y=1.015)\n",
    "ax.set_ylabel('user type', labelpad=16)\n",
    "ax.set_xlabel('Duration in mins', labelpad=16)\n"
   ]
  },
  {
   "cell_type": "markdown",
   "metadata": {},
   "source": [
    "Customers are tending to rent the bike rentals for a longer time, may be because they rent for leisure rather than commuting like the subscribers could be doing. We will do the same assessment for gender category"
   ]
  },
  {
   "cell_type": "code",
   "execution_count": 67,
   "metadata": {},
   "outputs": [
    {
     "data": {
      "text/plain": [
       "Text(0.5, 0, 'Duration in mins')"
      ]
     },
     "execution_count": 67,
     "metadata": {},
     "output_type": "execute_result"
    },
    {
     "data": {
      "image/png": "[encoded data removed]",
      "text/plain": [
       "<Figure size 936x504 with 1 Axes>"
      ]
     },
     "metadata": {},
     "output_type": "display_data"
    }
   ],
   "source": [
    "#plottingg user_type against duration \n",
    "new_color=['navy', 'blue', 'lightblue']\n",
    "ax = df_bike.groupby('member_gender')['duration_min'].mean().plot(kind='barh', color=new_color, figsize=(13,7))\n",
    "\n",
    "ax.set_title('Average trip duration per user type', fontsize=20, y=1.015)\n",
    "ax.set_ylabel('user type', labelpad=16)\n",
    "ax.set_xlabel('Duration in mins', labelpad=16)\n"
   ]
  },
  {
   "cell_type": "code",
   "execution_count": 68,
   "metadata": {},
   "outputs": [
    {
     "name": "stdout",
     "output_type": "stream",
     "text": [
      "(444746, 21)\n"
     ]
    },
    {
     "data": {
      "text/plain": [
       "Male      342173\n",
       "Female     96447\n",
       "Other       6126\n",
       "Name: member_gender, dtype: int64"
      ]
     },
     "execution_count": 68,
     "metadata": {},
     "output_type": "execute_result"
    }
   ],
   "source": [
    "print(df_bike.shape); df_bike.member_gender.value_counts()"
   ]
  },
  {
   "cell_type": "markdown",
   "metadata": {},
   "source": [
    "Females are renting the bikes for longer duration, followed by gender 'other'. However 'other' category only consists of 6126 dataset out of the total 444,746 rows."
   ]
  },
  {
   "cell_type": "markdown",
   "metadata": {},
   "source": [
    "### Talk about some of the relationships you observed in this part of the investigation. How did the feature(s) of interest vary with other features in the dataset?\n",
    "\n",
    "> With additive variables, our question is closer to completion. Customer and Subscriber relationships have shown us that the subscribers had a particular time that was mostly rented out, which are the business hours of 8am-5pm, while the customers preferred later during the day. The relationships are suggesting that most of the clients for FordGoBike rentals have been using it for daily commute to work or elsewhere, as the durations are small during weekdays but larger during the weekends. Peak season appears to be in November time for longer rentals, as more age groups are tending to the riding bikes. \n",
    "\n",
    "### Did you observe any interesting relationships between the other features (not the main feature(s) of interest)?\n",
    "\n",
    "> It was interesting to see that subscribers are older in age ranges compared to the customers, and it is also intriguing that the older age groups of 60-70 had the longest duration of rentals. This was not expected as one may expect the younger ages to be more active."
   ]
  },
  {
   "cell_type": "markdown",
   "metadata": {},
   "source": [
    "## Multivariate Exploration\n",
    "\n",
    "> In this section we will explore all the variables mentioned above and try to identify any patterns or features of interest that can answer our question"
   ]
  },
  {
   "cell_type": "markdown",
   "metadata": {},
   "source": [
    "We will start by exploring the user_type, duration_time, and member_gender"
   ]
  },
  {
   "cell_type": "code",
   "execution_count": 69,
   "metadata": {},
   "outputs": [
    {
     "data": {
      "text/plain": [
       "<Figure size 720x360 with 0 Axes>"
      ]
     },
     "metadata": {},
     "output_type": "display_data"
    },
    {
     "data": {
      "image/png": "[encoded data removed]",
      "text/plain": [
       "<Figure size 485.7x360 with 1 Axes>"
      ]
     },
     "metadata": {},
     "output_type": "display_data"
    }
   ],
   "source": [
    "plt.figure(figsize = [10, 5])\n",
    "\n",
    "g = sns.catplot(data=df_bike, x='user_type', y=\"duration_min\", hue=\"member_gender\", kind=\"boxen\")\n",
    "#g = sns.countplot(data=df_bike, x=\"user_type\", y='duration_min',hue=\"member_gender\", order=df_bike.user_type.value_counts().index)\n"
   ]
  },
  {
   "cell_type": "markdown",
   "metadata": {},
   "source": [
    "This plot better summarizes data from previous section, where females tend to have longer duration of rentals followed by gender group 'other' and then males. Customers tend to rent the bike for longer periods in comparison to the subscribers. Lets see how these variables can be interpreted with months data."
   ]
  },
  {
   "cell_type": "code",
   "execution_count": 70,
   "metadata": {},
   "outputs": [
    {
     "data": {
      "image/png": "[encoded data removed]",
      "text/plain": [
       "<Figure size 845.7x360 with 2 Axes>"
      ]
     },
     "metadata": {},
     "output_type": "display_data"
    }
   ],
   "source": [
    "#comparing duration information with user_type, member_gender, and start_month\n",
    "months = ['Jun', 'Jul', 'Aug', 'Sep', 'Oct', 'Nov', 'Dec']\n",
    "g = sns.catplot(data=df_bike, x='start_month', y='duration_min',col=\"user_type\", hue=\"member_gender\", kind='point', orders=months,sharey = False)\n",
    "\n",
    "\n",
    "g.set_axis_labels(\"Months\", \"Trip Duration (mins)\")\n",
    "g._legend.set_title('Gender')\n",
    "g.set_titles(\"{col_name}\")\n",
    "g.fig.suptitle('Comparing trip durations for user type and gender during months of June-Dec', y=1.03, fontsize=14);"
   ]
  },
  {
   "cell_type": "markdown",
   "metadata": {},
   "source": [
    "It appears that the month of June had the longest duration of rentals for customers, although for subscribers the months of december had the highest rental. Females still shows to be consistent with the duration time. This maybe because customers ride for leisure and during the months of June is when the weather is usally better, and for subscribers Decemeber is the last month of activity prior to taking other modes of transportation for commuting. Day of the week will be the next mode of comparison between the categorical variables"
   ]
  },
  {
   "cell_type": "markdown",
   "metadata": {},
   "source": [
    "### Talk about some of the relationships you observed in this part of the investigation. Were there features that strengthened each other in terms of looking at your feature(s) of interest?\n",
    "\n",
    "> Some of the features were not easily distinguishable, but from further plotting and analysis certain patterns could be made of. In this investigation, the age groups along with the durations have been the most fascinating as both of which were not anticipated. The graphs of customer and subscriber increased the strength of my interest, as it funneled my question to an actual answer, which is that the longest duration of rentals are not by subscribers but by customers who rent the longest in June and evening. Whereas the opposite of subsribers commuting to work has been discovered when analyzing the time of day of rentals.\n",
    "\n",
    "### Were there any interesting or surprising interactions between features?\n",
    "\n",
    "> There were certain features that were of surprise, especially the gender 'other' whom seem to have the longest duration of bike rentals but have the smallest overall count in data. This was suprising altogether as even though it was a small count, it made an impact for our variable of interest, duration."
   ]
  },
  {
   "cell_type": "markdown",
   "metadata": {},
   "source": [
    "> At the end of your report, make sure that you export the notebook as an\n",
    "html file from the `File > Download as... > HTML` menu. Make sure you keep\n",
    "track of where the exported file goes, so you can put it in the same folder\n",
    "as this notebook for project submission. Also, make sure you remove all of\n",
    "the quote-formatted guide notes like this one before you finish your report!"
   ]
  }
 ],
 "metadata": {
  "kernelspec": {
   "display_name": "Python 3",
   "language": "python",
   "name": "python3"
  },
  "language_info": {
   "codemirror_mode": {
    "name": "ipython",
    "version": 3
   },
   "file_extension": ".py",
   "mimetype": "text/x-python",
   "name": "python",
   "nbconvert_exporter": "python",
   "pygments_lexer": "ipython3",
   "version": "3.6.7"
  }
 },
 "nbformat": 4,
 "nbformat_minor": 2
}
